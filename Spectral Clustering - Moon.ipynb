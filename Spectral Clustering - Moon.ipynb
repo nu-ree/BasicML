{
 "cells": [
  {
   "cell_type": "markdown",
   "metadata": {},
   "source": [
    "# Spectral Clustering - Moon\n",
    "- 2018/07/02 ~ 2018/07/06\n",
    "\n",
    "## References\n",
    "- https://machinelearningmastery.com/generate-test-datasets-python-scikit-learn/\n",
    "- http://bcho.tistory.com/1203\n",
    "- https://github.com/Rabierre/deep-learning/blob/master/8th-week/codes/spectral_clustering.ipynb"
   ]
  },
  {
   "cell_type": "markdown",
   "metadata": {},
   "source": [
    "## Step0. 달 모양 데이터 생성하기"
   ]
  },
  {
   "cell_type": "code",
   "execution_count": 72,
   "metadata": {},
   "outputs": [],
   "source": [
    "from sklearn.datasets import make_moons\n",
    "from pandas import DataFrame\n",
    "import numpy as np\n",
    "import matplotlib.pyplot as plt\n",
    "from sklearn.cluster import KMeans"
   ]
  },
  {
   "cell_type": "code",
   "execution_count": 1233,
   "metadata": {
    "scrolled": false
   },
   "outputs": [
    {
     "data": {
      "image/png": "[encoded data removed]",
      "text/plain": [
       "<matplotlib.figure.Figure at 0x1a3c61c8860>"
      ]
     },
     "metadata": {},
     "output_type": "display_data"
    }
   ],
   "source": [
    "# 달 모양 데이터 만들기\n",
    "X, y = make_moons(n_samples=300, noise=0.05)\n",
    "df = DataFrame(dict(x=X[:,0], y=X[:,1], label=y))\n",
    "colors = np.array(list(islice(cycle(['#4daf4a','#f781bf', '#a65628', '#984ea3']),int(max(labels) + 1))))\n",
    "\n",
    "fig, ax = plt.subplots()\n",
    "grouped = df.groupby('label')\n",
    "for key, group in grouped:\n",
    "    group.plot(ax=ax, kind='scatter', x='x', y='y', label=key, color=colors[key])\n",
    "plt.show()"
   ]
  },
  {
   "cell_type": "code",
   "execution_count": 1234,
   "metadata": {},
   "outputs": [
    {
     "data": {
      "text/plain": [
       "300"
      ]
     },
     "execution_count": 1234,
     "metadata": {},
     "output_type": "execute_result"
    }
   ],
   "source": [
    "len(df)"
   ]
  },
  {
   "cell_type": "code",
   "execution_count": 1235,
   "metadata": {
    "scrolled": true
   },
   "outputs": [
    {
     "data": {
      "text/html": [
       "<div>\n",
       "<style scoped>\n",
       "    .dataframe tbody tr th:only-of-type {\n",
       "        vertical-align: middle;\n",
       "    }\n",
       "\n",
       "    .dataframe tbody tr th {\n",
       "        vertical-align: top;\n",
       "    }\n",
       "\n",
       "    .dataframe thead th {\n",
       "        text-align: right;\n",
       "    }\n",
       "</style>\n",
       "<table border=\"1\" class=\"dataframe\">\n",
       "  <thead>\n",
       "    <tr style=\"text-align: right;\">\n",
       "      <th></th>\n",
       "      <th>label</th>\n",
       "      <th>x</th>\n",
       "      <th>y</th>\n",
       "    </tr>\n",
       "  </thead>\n",
       "  <tbody>\n",
       "    <tr>\n",
       "      <th>0</th>\n",
       "      <td>1</td>\n",
       "      <td>0.835500</td>\n",
       "      <td>-0.438042</td>\n",
       "    </tr>\n",
       "    <tr>\n",
       "      <th>1</th>\n",
       "      <td>1</td>\n",
       "      <td>1.897383</td>\n",
       "      <td>0.072075</td>\n",
       "    </tr>\n",
       "    <tr>\n",
       "      <th>2</th>\n",
       "      <td>0</td>\n",
       "      <td>-0.965344</td>\n",
       "      <td>0.136654</td>\n",
       "    </tr>\n",
       "    <tr>\n",
       "      <th>3</th>\n",
       "      <td>0</td>\n",
       "      <td>-0.348055</td>\n",
       "      <td>0.814488</td>\n",
       "    </tr>\n",
       "    <tr>\n",
       "      <th>4</th>\n",
       "      <td>1</td>\n",
       "      <td>-0.016652</td>\n",
       "      <td>0.225115</td>\n",
       "    </tr>\n",
       "  </tbody>\n",
       "</table>\n",
       "</div>"
      ],
      "text/plain": [
       "   label         x         y\n",
       "0      1  0.835500 -0.438042\n",
       "1      1  1.897383  0.072075\n",
       "2      0 -0.965344  0.136654\n",
       "3      0 -0.348055  0.814488\n",
       "4      1 -0.016652  0.225115"
      ]
     },
     "execution_count": 1235,
     "metadata": {},
     "output_type": "execute_result"
    }
   ],
   "source": [
    "df.head()"
   ]
  },
  {
   "cell_type": "code",
   "execution_count": 1236,
   "metadata": {},
   "outputs": [
    {
     "data": {
      "text/plain": [
       "array([[ 0.83549951, -0.43804154],\n",
       "       [ 1.89738336,  0.07207548],\n",
       "       [-0.96534378,  0.13665415]])"
      ]
     },
     "execution_count": 1236,
     "metadata": {},
     "output_type": "execute_result"
    }
   ],
   "source": [
    "X[:3]"
   ]
  },
  {
   "cell_type": "markdown",
   "metadata": {},
   "source": [
    "## Step1. Gaussian Kernel을 통해 pairwise matrix를 만든다"
   ]
  },
  {
   "cell_type": "code",
   "execution_count": 1237,
   "metadata": {},
   "outputs": [],
   "source": [
    "from itertools import cycle, islice"
   ]
  },
  {
   "cell_type": "code",
   "execution_count": 1238,
   "metadata": {},
   "outputs": [],
   "source": [
    "def GaussianMatrix(X,alpha):\n",
    "    row,col=X.shape\n",
    "    GassMatrix=np.zeros(shape=(row,row))\n",
    "    X=np.asarray(X)\n",
    "    i=0\n",
    "    for v_i in X:\n",
    "        j=0\n",
    "        for v_j in X:\n",
    "            GassMatrix[i,j]=Gaussian(v_i.T,v_j.T,alpha)\n",
    "            j+=1\n",
    "        i+=1\n",
    "    return GassMatrix\n",
    "def Gaussian(x,z,alpha):\n",
    "    return np.exp((-(np.linalg.norm(x-z)))/(alpha))"
   ]
  },
  {
   "cell_type": "code",
   "execution_count": 1239,
   "metadata": {},
   "outputs": [],
   "source": [
    "X_G = GaussianMatrix(X,alpha = 0.1)"
   ]
  },
  {
   "cell_type": "code",
   "execution_count": 1240,
   "metadata": {},
   "outputs": [
    {
     "data": {
      "text/plain": [
       "array([[1.        , 0.67515603, 0.50493577, 0.48818739, 0.46157636,\n",
       "        0.42062405, 0.40345064, 0.38127957, 0.29390717, 0.28673814]])"
      ]
     },
     "execution_count": 1240,
     "metadata": {},
     "output_type": "execute_result"
    }
   ],
   "source": [
    "X_G[:1,1:] = -np.sort(-X_G[:1,1:])\n",
    "X_G[:1, :10]"
   ]
  },
  {
   "cell_type": "markdown",
   "metadata": {},
   "source": [
    "- alpha 값이 커질수록 Similarity 계산 값은 1에 가까워짐\n",
    "- 가장 값이 큰 두 값을 제외하고 나머지는 0으로 만들어야 함"
   ]
  },
  {
   "cell_type": "markdown",
   "metadata": {},
   "source": [
    "## Step2. Laplacian Matrix(=Degree Matrix - Adjacency Matrix)를 만든다"
   ]
  },
  {
   "cell_type": "code",
   "execution_count": 1241,
   "metadata": {},
   "outputs": [],
   "source": [
    "def AdjacencyMatrix(S, k_neighboors):\n",
    "    N = len(S)\n",
    "    A = np.zeros((N, N))\n",
    "    for i in range(N):\n",
    "        best = np.sort(S[i])[::-1][0:k_neighboors]\n",
    "        for s in best:\n",
    "            j = S[i].tolist().index(s)\n",
    "            A[i][j] = S[i][j]\n",
    "            A[j][i] = S[i][j]\n",
    "    return A"
   ]
  },
  {
   "cell_type": "code",
   "execution_count": 1242,
   "metadata": {},
   "outputs": [],
   "source": [
    "A = AdjacencyMatrix(X_G,30)"
   ]
  },
  {
   "cell_type": "code",
   "execution_count": 1243,
   "metadata": {},
   "outputs": [
    {
     "data": {
      "text/plain": [
       "array([[1.        , 0.67515603, 0.50493577, 0.48818739, 0.46157636,\n",
       "        0.42062405, 0.40345064, 0.38127957, 0.29390717, 0.28673814,\n",
       "        0.28299201, 0.38127957, 0.26507843, 0.22618969, 0.17408638,\n",
       "        0.16880021, 0.138291  , 0.12997056, 0.12179358, 0.11086978,\n",
       "        0.10346307, 0.08750079, 0.08505501, 0.06929086, 0.28299201,\n",
       "        0.04957738, 0.0492952 , 0.04686596, 0.04457584, 0.04208316,\n",
       "        0.        , 0.        , 0.        , 0.        , 0.        ,\n",
       "        0.        , 0.        , 0.        , 0.        , 0.        ,\n",
       "        0.        , 0.        , 0.        , 0.        , 0.        ,\n",
       "        0.        , 0.        , 0.        , 0.        , 0.        ,\n",
       "        0.48818739, 0.        , 0.        , 0.        , 0.        ,\n",
       "        0.        , 0.        , 0.        , 0.        , 0.        ,\n",
       "        0.        , 0.        , 0.        , 0.        , 0.        ,\n",
       "        0.        , 0.        , 0.        , 0.        , 0.        ,\n",
       "        0.        , 0.        , 0.        , 0.        , 0.        ,\n",
       "        0.        , 0.        , 0.        , 0.        , 0.        ,\n",
       "        0.17408638, 0.        , 0.        , 0.40345064, 0.        ,\n",
       "        0.        , 0.        , 0.        , 0.        , 0.        ,\n",
       "        0.        , 0.        , 0.        , 0.        , 0.        ,\n",
       "        0.        , 0.        , 0.        , 0.        , 0.        ,\n",
       "        0.        , 0.        , 0.        , 0.        , 0.        ,\n",
       "        0.        , 0.06929086, 0.        , 0.        , 0.        ,\n",
       "        0.        , 0.        , 0.        , 0.        , 0.        ,\n",
       "        0.        , 0.        , 0.        , 0.        , 0.        ,\n",
       "        0.        , 0.        , 0.        , 0.        , 0.        ,\n",
       "        0.00926617, 0.        , 0.        , 0.        , 0.        ,\n",
       "        0.        , 0.        , 0.        , 0.        , 0.        ,\n",
       "        0.        , 0.        , 0.        , 0.        , 0.        ,\n",
       "        0.        , 0.        , 0.46157636, 0.        , 0.        ,\n",
       "        0.05000643, 0.        , 0.04686596, 0.        , 0.        ,\n",
       "        0.        , 0.67515603, 0.        , 0.        , 0.        ,\n",
       "        0.        , 0.        , 0.        , 0.        , 0.        ,\n",
       "        0.        , 0.        , 0.        , 0.        , 0.28081696,\n",
       "        0.        , 0.        , 0.        , 0.        , 0.        ,\n",
       "        0.        , 0.        , 0.50493577, 0.        , 0.16880021,\n",
       "        0.        , 0.        , 0.        , 0.        , 0.        ,\n",
       "        0.        , 0.        , 0.42062405, 0.        , 0.        ,\n",
       "        0.        , 0.        , 0.03966169, 0.        , 0.        ,\n",
       "        0.        , 0.        , 0.        , 0.        , 0.11086978,\n",
       "        0.        , 0.138291  , 0.        , 0.        , 0.        ,\n",
       "        0.        , 0.        , 0.        , 0.        , 0.00717192,\n",
       "        0.        , 0.        , 0.        , 0.        , 0.        ,\n",
       "        0.        , 0.        , 0.        , 0.        , 0.        ,\n",
       "        0.        , 0.        , 0.        , 0.        , 0.        ,\n",
       "        0.        , 0.        , 0.08750079, 0.        , 0.        ,\n",
       "        0.        , 0.26507843, 0.        , 0.        , 0.        ,\n",
       "        0.        , 0.        , 0.        , 0.04457584, 0.        ,\n",
       "        0.        , 0.        , 0.        , 0.        , 0.        ,\n",
       "        0.        , 0.        , 0.        , 0.        , 0.        ,\n",
       "        0.        , 0.22618969, 0.        , 0.        , 0.        ,\n",
       "        0.10346307, 0.29390717, 0.        , 0.        , 0.        ,\n",
       "        0.03683997, 0.        , 0.        , 0.        , 0.        ,\n",
       "        0.        , 0.        , 0.        , 0.03970709, 0.        ,\n",
       "        0.        , 0.        , 0.        , 0.        , 0.        ,\n",
       "        0.        , 0.12997056, 0.        , 0.        , 0.        ,\n",
       "        0.28673814, 0.00957139, 0.        , 0.        , 0.        ,\n",
       "        0.        , 0.        , 0.        , 0.        , 0.        ,\n",
       "        0.        , 0.        , 0.        , 0.        , 0.        ,\n",
       "        0.        , 0.        , 0.08505501, 0.        , 0.        ,\n",
       "        0.        , 0.12179358, 0.        , 0.        , 0.        ]])"
      ]
     },
     "execution_count": 1243,
     "metadata": {},
     "output_type": "execute_result"
    }
   ],
   "source": [
    "A[:1,:]"
   ]
  },
  {
   "cell_type": "code",
   "execution_count": 1244,
   "metadata": {},
   "outputs": [],
   "source": [
    "def DegreeMatrix(A):\n",
    "    D = np.zeros(A.shape)\n",
    "    for i in range(A.shape[0]):\n",
    "        D[i,i] = np.sum(A[i,:])\n",
    "    return D"
   ]
  },
  {
   "cell_type": "code",
   "execution_count": 1245,
   "metadata": {},
   "outputs": [
    {
     "data": {
      "text/plain": [
       "array([[13.55535395,  0.        ,  0.        ],\n",
       "       [ 0.        ,  9.41186961,  0.        ],\n",
       "       [ 0.        ,  0.        ,  7.95777351]])"
      ]
     },
     "execution_count": 1245,
     "metadata": {},
     "output_type": "execute_result"
    }
   ],
   "source": [
    "D = DegreeMatrix(A)\n",
    "D[:3,:3]"
   ]
  },
  {
   "cell_type": "code",
   "execution_count": 1246,
   "metadata": {},
   "outputs": [
    {
     "data": {
      "text/plain": [
       "array([[ 1.25553540e+01, -6.75156032e-01, -5.04935769e-01,\n",
       "        -4.88187394e-01, -4.61576360e-01, -4.20624051e-01,\n",
       "        -4.03450639e-01, -3.81279570e-01, -2.93907168e-01,\n",
       "        -2.86738140e-01, -2.82992005e-01, -3.81279570e-01,\n",
       "        -2.65078430e-01, -2.26189685e-01, -1.74086380e-01,\n",
       "        -1.68800209e-01, -1.38290995e-01, -1.29970564e-01,\n",
       "        -1.21793584e-01, -1.10869783e-01, -1.03463074e-01,\n",
       "        -8.75007946e-02, -8.50550146e-02, -6.92908584e-02,\n",
       "        -2.82992005e-01, -4.95773766e-02, -4.92951969e-02,\n",
       "        -4.68659554e-02, -4.45758411e-02, -4.20831646e-02,\n",
       "         0.00000000e+00,  0.00000000e+00,  0.00000000e+00,\n",
       "         0.00000000e+00,  0.00000000e+00,  0.00000000e+00,\n",
       "         0.00000000e+00,  0.00000000e+00,  0.00000000e+00,\n",
       "         0.00000000e+00,  0.00000000e+00,  0.00000000e+00,\n",
       "         0.00000000e+00,  0.00000000e+00,  0.00000000e+00,\n",
       "         0.00000000e+00,  0.00000000e+00,  0.00000000e+00,\n",
       "         0.00000000e+00,  0.00000000e+00, -4.88187394e-01,\n",
       "         0.00000000e+00,  0.00000000e+00,  0.00000000e+00,\n",
       "         0.00000000e+00,  0.00000000e+00,  0.00000000e+00,\n",
       "         0.00000000e+00,  0.00000000e+00,  0.00000000e+00,\n",
       "         0.00000000e+00,  0.00000000e+00,  0.00000000e+00,\n",
       "         0.00000000e+00,  0.00000000e+00,  0.00000000e+00,\n",
       "         0.00000000e+00,  0.00000000e+00,  0.00000000e+00,\n",
       "         0.00000000e+00,  0.00000000e+00,  0.00000000e+00,\n",
       "         0.00000000e+00,  0.00000000e+00,  0.00000000e+00,\n",
       "         0.00000000e+00,  0.00000000e+00,  0.00000000e+00,\n",
       "         0.00000000e+00,  0.00000000e+00, -1.74086380e-01,\n",
       "         0.00000000e+00,  0.00000000e+00, -4.03450639e-01,\n",
       "         0.00000000e+00,  0.00000000e+00,  0.00000000e+00,\n",
       "         0.00000000e+00,  0.00000000e+00,  0.00000000e+00,\n",
       "         0.00000000e+00,  0.00000000e+00,  0.00000000e+00,\n",
       "         0.00000000e+00,  0.00000000e+00,  0.00000000e+00,\n",
       "         0.00000000e+00,  0.00000000e+00,  0.00000000e+00,\n",
       "         0.00000000e+00,  0.00000000e+00,  0.00000000e+00,\n",
       "         0.00000000e+00,  0.00000000e+00,  0.00000000e+00,\n",
       "         0.00000000e+00, -6.92908584e-02,  0.00000000e+00,\n",
       "         0.00000000e+00,  0.00000000e+00,  0.00000000e+00,\n",
       "         0.00000000e+00,  0.00000000e+00,  0.00000000e+00,\n",
       "         0.00000000e+00,  0.00000000e+00,  0.00000000e+00,\n",
       "         0.00000000e+00,  0.00000000e+00,  0.00000000e+00,\n",
       "         0.00000000e+00,  0.00000000e+00,  0.00000000e+00,\n",
       "         0.00000000e+00,  0.00000000e+00, -9.26616822e-03,\n",
       "         0.00000000e+00,  0.00000000e+00,  0.00000000e+00,\n",
       "         0.00000000e+00,  0.00000000e+00,  0.00000000e+00,\n",
       "         0.00000000e+00,  0.00000000e+00,  0.00000000e+00,\n",
       "         0.00000000e+00,  0.00000000e+00,  0.00000000e+00,\n",
       "         0.00000000e+00,  0.00000000e+00,  0.00000000e+00,\n",
       "         0.00000000e+00, -4.61576360e-01,  0.00000000e+00,\n",
       "         0.00000000e+00, -5.00064304e-02,  0.00000000e+00,\n",
       "        -4.68659554e-02,  0.00000000e+00,  0.00000000e+00,\n",
       "         0.00000000e+00, -6.75156032e-01,  0.00000000e+00,\n",
       "         0.00000000e+00,  0.00000000e+00,  0.00000000e+00,\n",
       "         0.00000000e+00,  0.00000000e+00,  0.00000000e+00,\n",
       "         0.00000000e+00,  0.00000000e+00,  0.00000000e+00,\n",
       "         0.00000000e+00,  0.00000000e+00, -2.80816957e-01,\n",
       "         0.00000000e+00,  0.00000000e+00,  0.00000000e+00,\n",
       "         0.00000000e+00,  0.00000000e+00,  0.00000000e+00,\n",
       "         0.00000000e+00, -5.04935769e-01,  0.00000000e+00,\n",
       "        -1.68800209e-01,  0.00000000e+00,  0.00000000e+00,\n",
       "         0.00000000e+00,  0.00000000e+00,  0.00000000e+00,\n",
       "         0.00000000e+00,  0.00000000e+00, -4.20624051e-01,\n",
       "         0.00000000e+00,  0.00000000e+00,  0.00000000e+00,\n",
       "         0.00000000e+00, -3.96616907e-02,  0.00000000e+00,\n",
       "         0.00000000e+00,  0.00000000e+00,  0.00000000e+00,\n",
       "         0.00000000e+00,  0.00000000e+00, -1.10869783e-01,\n",
       "         0.00000000e+00, -1.38290995e-01,  0.00000000e+00,\n",
       "         0.00000000e+00,  0.00000000e+00,  0.00000000e+00,\n",
       "         0.00000000e+00,  0.00000000e+00,  0.00000000e+00,\n",
       "        -7.17191824e-03,  0.00000000e+00,  0.00000000e+00,\n",
       "         0.00000000e+00,  0.00000000e+00,  0.00000000e+00,\n",
       "         0.00000000e+00,  0.00000000e+00,  0.00000000e+00,\n",
       "         0.00000000e+00,  0.00000000e+00,  0.00000000e+00,\n",
       "         0.00000000e+00,  0.00000000e+00,  0.00000000e+00,\n",
       "         0.00000000e+00,  0.00000000e+00,  0.00000000e+00,\n",
       "        -8.75007946e-02,  0.00000000e+00,  0.00000000e+00,\n",
       "         0.00000000e+00, -2.65078430e-01,  0.00000000e+00,\n",
       "         0.00000000e+00,  0.00000000e+00,  0.00000000e+00,\n",
       "         0.00000000e+00,  0.00000000e+00, -4.45758411e-02,\n",
       "         0.00000000e+00,  0.00000000e+00,  0.00000000e+00,\n",
       "         0.00000000e+00,  0.00000000e+00,  0.00000000e+00,\n",
       "         0.00000000e+00,  0.00000000e+00,  0.00000000e+00,\n",
       "         0.00000000e+00,  0.00000000e+00,  0.00000000e+00,\n",
       "        -2.26189685e-01,  0.00000000e+00,  0.00000000e+00,\n",
       "         0.00000000e+00, -1.03463074e-01, -2.93907168e-01,\n",
       "         0.00000000e+00,  0.00000000e+00,  0.00000000e+00,\n",
       "        -3.68399741e-02,  0.00000000e+00,  0.00000000e+00,\n",
       "         0.00000000e+00,  0.00000000e+00,  0.00000000e+00,\n",
       "         0.00000000e+00,  0.00000000e+00, -3.97070897e-02,\n",
       "         0.00000000e+00,  0.00000000e+00,  0.00000000e+00,\n",
       "         0.00000000e+00,  0.00000000e+00,  0.00000000e+00,\n",
       "         0.00000000e+00, -1.29970564e-01,  0.00000000e+00,\n",
       "         0.00000000e+00,  0.00000000e+00, -2.86738140e-01,\n",
       "        -9.57138795e-03,  0.00000000e+00,  0.00000000e+00,\n",
       "         0.00000000e+00,  0.00000000e+00,  0.00000000e+00,\n",
       "         0.00000000e+00,  0.00000000e+00,  0.00000000e+00,\n",
       "         0.00000000e+00,  0.00000000e+00,  0.00000000e+00,\n",
       "         0.00000000e+00,  0.00000000e+00,  0.00000000e+00,\n",
       "         0.00000000e+00, -8.50550146e-02,  0.00000000e+00,\n",
       "         0.00000000e+00,  0.00000000e+00, -1.21793584e-01,\n",
       "         0.00000000e+00,  0.00000000e+00,  0.00000000e+00]])"
      ]
     },
     "execution_count": 1246,
     "metadata": {},
     "output_type": "execute_result"
    }
   ],
   "source": [
    "L = D - A\n",
    "L[:1,]"
   ]
  },
  {
   "cell_type": "code",
   "execution_count": 1247,
   "metadata": {},
   "outputs": [],
   "source": [
    "from numpy.linalg import svd"
   ]
  },
  {
   "cell_type": "markdown",
   "metadata": {},
   "source": [
    "## Step3. SVD를 통해 가장 작은 고유벡터 2개을 찾는다"
   ]
  },
  {
   "cell_type": "code",
   "execution_count": 1248,
   "metadata": {},
   "outputs": [],
   "source": [
    "U, Sigma, V_t = svd(L)"
   ]
  },
  {
   "cell_type": "code",
   "execution_count": 1249,
   "metadata": {
    "scrolled": true
   },
   "outputs": [
    {
     "data": {
      "image/png": "[encoded data removed]",
      "text/plain": [
       "<matplotlib.figure.Figure at 0x1a3c882d208>"
      ]
     },
     "metadata": {},
     "output_type": "display_data"
    }
   ],
   "source": [
    "plt.plot(Sigma, label='line 1', linewidth=2)\n",
    "plt.show()"
   ]
  },
  {
   "cell_type": "code",
   "execution_count": 1250,
   "metadata": {
    "scrolled": false
   },
   "outputs": [
    {
     "data": {
      "text/plain": [
       "array([9.07613582e-01, 8.39294279e-01, 4.80780934e-01, 4.77193999e-01,\n",
       "       2.69487326e-01, 2.20607442e-01, 8.69378546e-02, 6.99549078e-02,\n",
       "       2.81702414e-02, 4.64148273e-16])"
      ]
     },
     "execution_count": 1250,
     "metadata": {},
     "output_type": "execute_result"
    }
   ],
   "source": [
    "Sigma[290:300]"
   ]
  },
  {
   "cell_type": "code",
   "execution_count": 1251,
   "metadata": {},
   "outputs": [
    {
     "data": {
      "text/plain": [
       "array([[ 0.03212303,  0.05773503],\n",
       "       [ 0.06237157,  0.05773503],\n",
       "       [-0.03080616,  0.05773503],\n",
       "       [-0.04044467,  0.05773503],\n",
       "       [ 0.05295368,  0.05773503],\n",
       "       [ 0.06022202,  0.05773503],\n",
       "       [ 0.06235285,  0.05773503],\n",
       "       [-0.03654758,  0.05773503],\n",
       "       [-0.0498849 ,  0.05773503],\n",
       "       [ 0.05349867,  0.05773503],\n",
       "       [ 0.05364907,  0.05773503],\n",
       "       [ 0.04839999,  0.05773503],\n",
       "       [ 0.06104337,  0.05773503],\n",
       "       [-0.03444186,  0.05773503],\n",
       "       [ 0.05081272,  0.05773503],\n",
       "       [ 0.05796004,  0.05773503],\n",
       "       [-0.03866098,  0.05773503],\n",
       "       [ 0.05193251,  0.05773503],\n",
       "       [-0.07352416,  0.05773503],\n",
       "       [ 0.05397964,  0.05773503],\n",
       "       [ 0.0616428 ,  0.05773503],\n",
       "       [-0.04549636,  0.05773503],\n",
       "       [-0.07419993,  0.05773503],\n",
       "       [-0.06210602,  0.05773503],\n",
       "       [ 0.04856693,  0.05773503],\n",
       "       [-0.07576761,  0.05773503],\n",
       "       [ 0.05481208,  0.05773503],\n",
       "       [-0.03573279,  0.05773503],\n",
       "       [-0.07550993,  0.05773503],\n",
       "       [-0.05455372,  0.05773503],\n",
       "       [-0.07669538,  0.05773503],\n",
       "       [-0.07638897,  0.05773503],\n",
       "       [-0.06163868,  0.05773503],\n",
       "       [-0.03746673,  0.05773503],\n",
       "       [ 0.0539246 ,  0.05773503],\n",
       "       [-0.03632604,  0.05773503],\n",
       "       [ 0.05436605,  0.05773503],\n",
       "       [ 0.05139543,  0.05773503],\n",
       "       [-0.04768377,  0.05773503],\n",
       "       [ 0.06027252,  0.05773503],\n",
       "       [-0.03806048,  0.05773503],\n",
       "       [-0.03725211,  0.05773503],\n",
       "       [-0.06901024,  0.05773503],\n",
       "       [-0.04965819,  0.05773503],\n",
       "       [ 0.05638843,  0.05773503],\n",
       "       [ 0.05329242,  0.05773503],\n",
       "       [-0.0477202 ,  0.05773503],\n",
       "       [-0.03961989,  0.05773503],\n",
       "       [ 0.05093392,  0.05773503],\n",
       "       [-0.04629188,  0.05773503],\n",
       "       [ 0.0476623 ,  0.05773503],\n",
       "       [-0.07596187,  0.05773503],\n",
       "       [-0.03690004,  0.05773503],\n",
       "       [-0.03545326,  0.05773503],\n",
       "       [-0.07044988,  0.05773503],\n",
       "       [ 0.06298386,  0.05773503],\n",
       "       [ 0.06120069,  0.05773503],\n",
       "       [-0.06120396,  0.05773503],\n",
       "       [ 0.06465296,  0.05773503],\n",
       "       [-0.05235865,  0.05773503],\n",
       "       [ 0.05392155,  0.05773503],\n",
       "       [ 0.06407086,  0.05773503],\n",
       "       [-0.04601167,  0.05773503],\n",
       "       [ 0.05343759,  0.05773503],\n",
       "       [ 0.05442914,  0.05773503],\n",
       "       [-0.07625483,  0.05773503],\n",
       "       [-0.0724945 ,  0.05773503],\n",
       "       [-0.07680189,  0.05773503],\n",
       "       [ 0.05094313,  0.05773503],\n",
       "       [ 0.05560153,  0.05773503],\n",
       "       [-0.03976476,  0.05773503],\n",
       "       [ 0.06083797,  0.05773503],\n",
       "       [ 0.05756074,  0.05773503],\n",
       "       [ 0.053478  ,  0.05773503],\n",
       "       [-0.07613092,  0.05773503],\n",
       "       [-0.0768406 ,  0.05773503],\n",
       "       [ 0.06608553,  0.05773503],\n",
       "       [-0.0390157 ,  0.05773503],\n",
       "       [-0.05530731,  0.05773503],\n",
       "       [ 0.05311153,  0.05773503],\n",
       "       [ 0.04877592,  0.05773503],\n",
       "       [-0.07332612,  0.05773503],\n",
       "       [-0.07687031,  0.05773503],\n",
       "       [ 0.0479796 ,  0.05773503],\n",
       "       [ 0.05601918,  0.05773503],\n",
       "       [ 0.0552958 ,  0.05773503],\n",
       "       [ 0.05635818,  0.05773503],\n",
       "       [ 0.06049208,  0.05773503],\n",
       "       [ 0.06044254,  0.05773503],\n",
       "       [ 0.05916001,  0.05773503],\n",
       "       [-0.04946304,  0.05773503],\n",
       "       [ 0.06459028,  0.05773503],\n",
       "       [ 0.05380968,  0.05773503],\n",
       "       [ 0.05306346,  0.05773503],\n",
       "       [ 0.05422515,  0.05773503],\n",
       "       [ 0.06186271,  0.05773503],\n",
       "       [-0.04965219,  0.05773503],\n",
       "       [ 0.06554874,  0.05773503],\n",
       "       [ 0.05439342,  0.05773503],\n",
       "       [ 0.06692637,  0.05773503],\n",
       "       [ 0.0544089 ,  0.05773503],\n",
       "       [-0.07501278,  0.05773503],\n",
       "       [-0.03739305,  0.05773503],\n",
       "       [-0.06116567,  0.05773503],\n",
       "       [ 0.06564852,  0.05773503],\n",
       "       [-0.07434235,  0.05773503],\n",
       "       [ 0.05228697,  0.05773503],\n",
       "       [ 0.06005311,  0.05773503],\n",
       "       [-0.04739124,  0.05773503],\n",
       "       [-0.07537799,  0.05773503],\n",
       "       [-0.07601444,  0.05773503],\n",
       "       [-0.03535719,  0.05773503],\n",
       "       [ 0.05219883,  0.05773503],\n",
       "       [-0.05227766,  0.05773503],\n",
       "       [ 0.06458225,  0.05773503],\n",
       "       [-0.03580322,  0.05773503],\n",
       "       [-0.07657198,  0.05773503],\n",
       "       [ 0.05428557,  0.05773503],\n",
       "       [-0.03882347,  0.05773503],\n",
       "       [ 0.05407719,  0.05773503],\n",
       "       [-0.0522059 ,  0.05773503],\n",
       "       [-0.06914245,  0.05773503],\n",
       "       [-0.07646793,  0.05773503],\n",
       "       [-0.07606796,  0.05773503],\n",
       "       [-0.06912894,  0.05773503],\n",
       "       [-0.073617  ,  0.05773503],\n",
       "       [-0.03833434,  0.05773503],\n",
       "       [-0.07643873,  0.05773503],\n",
       "       [-0.03554318,  0.05773503],\n",
       "       [-0.03584835,  0.05773503],\n",
       "       [ 0.05415635,  0.05773503],\n",
       "       [-0.07622139,  0.05773503],\n",
       "       [-0.04675043,  0.05773503],\n",
       "       [ 0.05746141,  0.05773503],\n",
       "       [-0.07684062,  0.05773503],\n",
       "       [ 0.05398843,  0.05773503],\n",
       "       [-0.04600564,  0.05773503],\n",
       "       [-0.06076154,  0.05773503],\n",
       "       [-0.0455537 ,  0.05773503],\n",
       "       [-0.07678167,  0.05773503],\n",
       "       [ 0.06226257,  0.05773503],\n",
       "       [-0.0749307 ,  0.05773503],\n",
       "       [ 0.04772981,  0.05773503],\n",
       "       [-0.03584437,  0.05773503],\n",
       "       [-0.06213303,  0.05773503],\n",
       "       [ 0.05265667,  0.05773503],\n",
       "       [ 0.06375441,  0.05773503],\n",
       "       [ 0.05303635,  0.05773503],\n",
       "       [-0.04444798,  0.05773503],\n",
       "       [ 0.05396662,  0.05773503],\n",
       "       [-0.0503382 ,  0.05773503],\n",
       "       [ 0.04727815,  0.05773503],\n",
       "       [ 0.05359837,  0.05773503],\n",
       "       [-0.07494978,  0.05773503],\n",
       "       [-0.03725914,  0.05773503],\n",
       "       [-0.054611  ,  0.05773503],\n",
       "       [-0.05546928,  0.05773503],\n",
       "       [ 0.05437207,  0.05773503],\n",
       "       [-0.07694572,  0.05773503],\n",
       "       [-0.03789476,  0.05773503],\n",
       "       [ 0.05407136,  0.05773503],\n",
       "       [ 0.06741253,  0.05773503],\n",
       "       [ 0.06670975,  0.05773503],\n",
       "       [ 0.06094258,  0.05773503],\n",
       "       [ 0.04835402,  0.05773503],\n",
       "       [-0.07243144,  0.05773503],\n",
       "       [-0.07534955,  0.05773503],\n",
       "       [-0.04382748,  0.05773503],\n",
       "       [ 0.05446623,  0.05773503],\n",
       "       [-0.0438741 ,  0.05773503],\n",
       "       [ 0.05394996,  0.05773503],\n",
       "       [-0.0622612 ,  0.05773503],\n",
       "       [ 0.04761327,  0.05773503],\n",
       "       [ 0.05438535,  0.05773503],\n",
       "       [ 0.0502495 ,  0.05773503],\n",
       "       [ 0.0541259 ,  0.05773503],\n",
       "       [-0.07673423,  0.05773503],\n",
       "       [ 0.05409007,  0.05773503],\n",
       "       [ 0.05091064,  0.05773503],\n",
       "       [-0.03790075,  0.05773503],\n",
       "       [ 0.06457129,  0.05773503],\n",
       "       [ 0.05754886,  0.05773503],\n",
       "       [ 0.04792477,  0.05773503],\n",
       "       [ 0.06219187,  0.05773503],\n",
       "       [ 0.06446095,  0.05773503],\n",
       "       [ 0.05450166,  0.05773503],\n",
       "       [ 0.05440173,  0.05773503],\n",
       "       [ 0.05313384,  0.05773503],\n",
       "       [ 0.0663541 ,  0.05773503],\n",
       "       [ 0.06728394,  0.05773503],\n",
       "       [-0.07593222,  0.05773503],\n",
       "       [-0.03759215,  0.05773503],\n",
       "       [ 0.05447937,  0.05773503],\n",
       "       [-0.04381877,  0.05773503],\n",
       "       [ 0.04929122,  0.05773503],\n",
       "       [-0.07605786,  0.05773503],\n",
       "       [ 0.0502656 ,  0.05773503],\n",
       "       [-0.04423098,  0.05773503],\n",
       "       [-0.03544443,  0.05773503],\n",
       "       [ 0.06153387,  0.05773503],\n",
       "       [-0.07543672,  0.05773503],\n",
       "       [ 0.0533419 ,  0.05773503],\n",
       "       [ 0.05868895,  0.05773503],\n",
       "       [-0.0749669 ,  0.05773503],\n",
       "       [-0.07495764,  0.05773503],\n",
       "       [-0.07683745,  0.05773503],\n",
       "       [-0.07580031,  0.05773503],\n",
       "       [ 0.05272977,  0.05773503],\n",
       "       [-0.04415094,  0.05773503],\n",
       "       [ 0.05241299,  0.05773503],\n",
       "       [-0.07682788,  0.05773503],\n",
       "       [ 0.05405321,  0.05773503],\n",
       "       [ 0.05410073,  0.05773503],\n",
       "       [-0.03550685,  0.05773503],\n",
       "       [-0.03728098,  0.05773503],\n",
       "       [-0.06804315,  0.05773503],\n",
       "       [ 0.06678685,  0.05773503],\n",
       "       [-0.07482748,  0.05773503],\n",
       "       [ 0.06729163,  0.05773503],\n",
       "       [-0.04386422,  0.05773503],\n",
       "       [-0.0352982 ,  0.05773503],\n",
       "       [ 0.05560897,  0.05773503],\n",
       "       [ 0.05016683,  0.05773503],\n",
       "       [ 0.06161888,  0.05773503],\n",
       "       [ 0.0595553 ,  0.05773503],\n",
       "       [-0.07221   ,  0.05773503],\n",
       "       [ 0.04872739,  0.05773503],\n",
       "       [ 0.05356853,  0.05773503],\n",
       "       [-0.05558409,  0.05773503],\n",
       "       [ 0.05407659,  0.05773503],\n",
       "       [ 0.05957522,  0.05773503],\n",
       "       [ 0.05369349,  0.05773503],\n",
       "       [-0.03640134,  0.05773503],\n",
       "       [ 0.05228716,  0.05773503],\n",
       "       [-0.04121409,  0.05773503],\n",
       "       [ 0.06757211,  0.05773503],\n",
       "       [ 0.05460943,  0.05773503],\n",
       "       [ 0.06717784,  0.05773503],\n",
       "       [-0.07692813,  0.05773503],\n",
       "       [-0.04389072,  0.05773503],\n",
       "       [ 0.05422286,  0.05773503],\n",
       "       [-0.06064181,  0.05773503],\n",
       "       [-0.0493816 ,  0.05773503],\n",
       "       [-0.07460049,  0.05773503],\n",
       "       [ 0.06570339,  0.05773503],\n",
       "       [ 0.05464173,  0.05773503],\n",
       "       [ 0.0492016 ,  0.05773503],\n",
       "       [-0.03676739,  0.05773503],\n",
       "       [ 0.06145832,  0.05773503],\n",
       "       [-0.05969037,  0.05773503],\n",
       "       [ 0.05131889,  0.05773503],\n",
       "       [ 0.0486915 ,  0.05773503],\n",
       "       [-0.04269025,  0.05773503],\n",
       "       [ 0.05258749,  0.05773503],\n",
       "       [ 0.06723351,  0.05773503],\n",
       "       [ 0.05202493,  0.05773503],\n",
       "       [ 0.06560814,  0.05773503],\n",
       "       [ 0.06739198,  0.05773503],\n",
       "       [-0.03786922,  0.05773503],\n",
       "       [-0.06918546,  0.05773503],\n",
       "       [-0.06051811,  0.05773503],\n",
       "       [-0.0436043 ,  0.05773503],\n",
       "       [-0.04135657,  0.05773503],\n",
       "       [ 0.05331057,  0.05773503],\n",
       "       [-0.03677266,  0.05773503],\n",
       "       [-0.06331666,  0.05773503],\n",
       "       [-0.03541399,  0.05773503],\n",
       "       [ 0.05313055,  0.05773503],\n",
       "       [ 0.05954277,  0.05773503],\n",
       "       [ 0.06097665,  0.05773503],\n",
       "       [-0.0350983 ,  0.05773503],\n",
       "       [ 0.04946045,  0.05773503],\n",
       "       [-0.04972302,  0.05773503],\n",
       "       [-0.03712591,  0.05773503],\n",
       "       [-0.05138431,  0.05773503],\n",
       "       [ 0.04844091,  0.05773503],\n",
       "       [-0.07402805,  0.05773503],\n",
       "       [-0.07327214,  0.05773503],\n",
       "       [-0.07391858,  0.05773503],\n",
       "       [ 0.05274442,  0.05773503],\n",
       "       [ 0.06741696,  0.05773503],\n",
       "       [ 0.05447908,  0.05773503],\n",
       "       [-0.04484617,  0.05773503],\n",
       "       [-0.06465302,  0.05773503],\n",
       "       [-0.07308223,  0.05773503],\n",
       "       [ 0.06461527,  0.05773503],\n",
       "       [-0.07373359,  0.05773503],\n",
       "       [-0.05607004,  0.05773503],\n",
       "       [ 0.05439826,  0.05773503],\n",
       "       [-0.04732275,  0.05773503],\n",
       "       [-0.03535338,  0.05773503],\n",
       "       [-0.07434637,  0.05773503],\n",
       "       [ 0.05025138,  0.05773503],\n",
       "       [-0.04797735,  0.05773503],\n",
       "       [-0.07624486,  0.05773503],\n",
       "       [ 0.06569157,  0.05773503],\n",
       "       [ 0.04946307,  0.05773503],\n",
       "       [ 0.06725523,  0.05773503],\n",
       "       [-0.06748743,  0.05773503],\n",
       "       [ 0.06502727,  0.05773503]])"
      ]
     },
     "execution_count": 1251,
     "metadata": {},
     "output_type": "execute_result"
    }
   ],
   "source": [
    "PC2 = U[:,298:300]\n",
    "PC2"
   ]
  },
  {
   "cell_type": "markdown",
   "metadata": {},
   "source": [
    "## Step4. 2개의 주성분에 Step1의 데이터를 투영한다"
   ]
  },
  {
   "cell_type": "code",
   "execution_count": 1264,
   "metadata": {
    "scrolled": true
   },
   "outputs": [
    {
     "data": {
      "text/html": [
       "<div>\n",
       "<style scoped>\n",
       "    .dataframe tbody tr th:only-of-type {\n",
       "        vertical-align: middle;\n",
       "    }\n",
       "\n",
       "    .dataframe tbody tr th {\n",
       "        vertical-align: top;\n",
       "    }\n",
       "\n",
       "    .dataframe thead th {\n",
       "        text-align: right;\n",
       "    }\n",
       "</style>\n",
       "<table border=\"1\" class=\"dataframe\">\n",
       "  <thead>\n",
       "    <tr style=\"text-align: right;\">\n",
       "      <th></th>\n",
       "      <th>0</th>\n",
       "      <th>1</th>\n",
       "    </tr>\n",
       "  </thead>\n",
       "  <tbody>\n",
       "    <tr>\n",
       "      <th>0</th>\n",
       "      <td>0.131856</td>\n",
       "      <td>0.458423</td>\n",
       "    </tr>\n",
       "    <tr>\n",
       "      <th>1</th>\n",
       "      <td>0.573790</td>\n",
       "      <td>0.514388</td>\n",
       "    </tr>\n",
       "    <tr>\n",
       "      <th>2</th>\n",
       "      <td>-0.262266</td>\n",
       "      <td>0.433038</td>\n",
       "    </tr>\n",
       "    <tr>\n",
       "      <th>3</th>\n",
       "      <td>-0.343994</td>\n",
       "      <td>0.440974</td>\n",
       "    </tr>\n",
       "    <tr>\n",
       "      <th>4</th>\n",
       "      <td>0.468527</td>\n",
       "      <td>0.506303</td>\n",
       "    </tr>\n",
       "  </tbody>\n",
       "</table>\n",
       "</div>"
      ],
      "text/plain": [
       "          0         1\n",
       "0  0.131856  0.458423\n",
       "1  0.573790  0.514388\n",
       "2 -0.262266  0.433038\n",
       "3 -0.343994  0.440974\n",
       "4  0.468527  0.506303"
      ]
     },
     "execution_count": 1264,
     "metadata": {},
     "output_type": "execute_result"
    }
   ],
   "source": [
    "Projected_X_G_2D = PC2.T.dot(X_G.T)\n",
    "DataFrame(Projected_X_G_2D.T).head()"
   ]
  },
  {
   "cell_type": "code",
   "execution_count": 1253,
   "metadata": {},
   "outputs": [
    {
     "data": {
      "text/plain": [
       "(2, 300)"
      ]
     },
     "execution_count": 1253,
     "metadata": {},
     "output_type": "execute_result"
    }
   ],
   "source": [
    "Projected_X_G_2D.shape"
   ]
  },
  {
   "cell_type": "code",
   "execution_count": 1254,
   "metadata": {},
   "outputs": [
    {
     "data": {
      "text/plain": [
       "(1, 300)"
      ]
     },
     "execution_count": 1254,
     "metadata": {},
     "output_type": "execute_result"
    }
   ],
   "source": [
    "Projected_X_G_2D[0:1,].shape"
   ]
  },
  {
   "cell_type": "code",
   "execution_count": 1255,
   "metadata": {},
   "outputs": [
    {
     "data": {
      "text/plain": [
       "(1, 300)"
      ]
     },
     "execution_count": 1255,
     "metadata": {},
     "output_type": "execute_result"
    }
   ],
   "source": [
    "Projected_X_G_2D[1:2,].shape"
   ]
  },
  {
   "cell_type": "code",
   "execution_count": 1256,
   "metadata": {
    "scrolled": true
   },
   "outputs": [
    {
     "data": {
      "text/plain": [
       "array([0.13185568, 0.45842254])"
      ]
     },
     "execution_count": 1256,
     "metadata": {},
     "output_type": "execute_result"
    }
   ],
   "source": [
    "Projected_X_G_2D[:,0]"
   ]
  },
  {
   "cell_type": "code",
   "execution_count": 1257,
   "metadata": {},
   "outputs": [
    {
     "data": {
      "text/plain": [
       "array([[0.13185568],\n",
       "       [0.45842254]])"
      ]
     },
     "execution_count": 1257,
     "metadata": {},
     "output_type": "execute_result"
    }
   ],
   "source": [
    "Projected_X_G_2D[:,0:1]"
   ]
  },
  {
   "cell_type": "code",
   "execution_count": 1258,
   "metadata": {
    "scrolled": true
   },
   "outputs": [
    {
     "data": {
      "image/png": "[encoded data removed]",
      "text/plain": [
       "<matplotlib.figure.Figure at 0x1a3c61ae550>"
      ]
     },
     "metadata": {},
     "output_type": "display_data"
    }
   ],
   "source": [
    "plt.scatter(Projected_X_G_2D[:,0:1], Projected_X_G_2D[:,1:2])\n",
    "plt.show()"
   ]
  },
  {
   "cell_type": "markdown",
   "metadata": {},
   "source": [
    "## Step5. 투영한 데이터를 K-Means를 통해 클러스터링 하고, 레이블을 붙인다"
   ]
  },
  {
   "cell_type": "code",
   "execution_count": 1259,
   "metadata": {},
   "outputs": [],
   "source": [
    "labels = KMeans(n_clusters=2, n_init=37, random_state=30).fit(Projected_X_G_2D.T).labels_"
   ]
  },
  {
   "cell_type": "code",
   "execution_count": 1260,
   "metadata": {},
   "outputs": [
    {
     "data": {
      "text/plain": [
       "(300,)"
      ]
     },
     "execution_count": 1260,
     "metadata": {},
     "output_type": "execute_result"
    }
   ],
   "source": [
    "labels.shape"
   ]
  },
  {
   "cell_type": "code",
   "execution_count": 1261,
   "metadata": {},
   "outputs": [
    {
     "data": {
      "text/plain": [
       "(300, 2)"
      ]
     },
     "execution_count": 1261,
     "metadata": {},
     "output_type": "execute_result"
    }
   ],
   "source": [
    "X.shape"
   ]
  },
  {
   "cell_type": "code",
   "execution_count": 1262,
   "metadata": {
    "scrolled": false
   },
   "outputs": [
    {
     "data": {
      "text/plain": [
       "array([1, 1, 0, 0, 1, 1, 1, 0, 0, 1, 1, 1, 1, 0, 1, 1, 0, 1, 0, 1, 1, 0,\n",
       "       0, 0, 1, 0, 1, 0, 0, 0, 0, 0, 0, 0, 1, 0, 1, 1, 0, 1, 0, 0, 0, 0,\n",
       "       1, 1, 0, 0, 1, 0, 1, 0, 0, 0, 0, 1, 1, 0, 1, 0, 1, 1, 0, 1, 1, 0,\n",
       "       0, 0, 1, 1, 0, 1, 1, 1, 0, 0, 1, 0, 0, 1, 1, 0, 0, 1, 1, 1, 1, 1,\n",
       "       1, 1, 0, 1, 1, 1, 1, 1, 0, 1, 1, 1, 1, 0, 0, 0, 1, 0, 1, 1, 0, 0,\n",
       "       0, 0, 1, 0, 1, 0, 0, 1, 0, 1, 0, 0, 0, 0, 0, 0, 0, 0, 0, 0, 1, 0,\n",
       "       0, 1, 0, 1, 0, 0, 0, 0, 1, 0, 1, 0, 0, 1, 1, 1, 0, 1, 0, 1, 1, 0,\n",
       "       0, 0, 0, 1, 0, 0, 1, 1, 1, 1, 1, 0, 0, 0, 1, 0, 1, 0, 1, 1, 1, 1,\n",
       "       0, 1, 1, 0, 1, 1, 1, 1, 1, 1, 1, 1, 1, 1, 0, 0, 1, 0, 1, 0, 1, 0,\n",
       "       0, 1, 0, 1, 1, 0, 0, 0, 0, 1, 0, 1, 0, 1, 1, 0, 0, 0, 1, 0, 1, 0,\n",
       "       0, 1, 1, 1, 1, 0, 1, 1, 0, 1, 1, 1, 0, 1, 0, 1, 1, 1, 0, 0, 1, 0,\n",
       "       0, 0, 1, 1, 1, 0, 1, 0, 1, 1, 0, 1, 1, 1, 1, 1, 0, 0, 0, 0, 0, 1,\n",
       "       0, 0, 0, 1, 1, 1, 0, 1, 0, 0, 0, 1, 0, 0, 0, 1, 1, 1, 0, 0, 0, 1,\n",
       "       0, 0, 1, 0, 0, 0, 1, 0, 0, 1, 1, 1, 0, 1])"
      ]
     },
     "execution_count": 1262,
     "metadata": {},
     "output_type": "execute_result"
    }
   ],
   "source": [
    "labels"
   ]
  },
  {
   "cell_type": "markdown",
   "metadata": {},
   "source": [
    "## Step6. 그려본다!"
   ]
  },
  {
   "cell_type": "code",
   "execution_count": 1263,
   "metadata": {
    "scrolled": false
   },
   "outputs": [
    {
     "data": {
      "image/png": "[encoded data removed]",
      "text/plain": [
       "<matplotlib.figure.Figure at 0x1a3c610f5c0>"
      ]
     },
     "metadata": {},
     "output_type": "display_data"
    }
   ],
   "source": [
    "plt.scatter(X[:, 0], X[:, 1],  color=colors[labels], alpha=0.6)\n",
    "plt.show()"
   ]
  }
 ],
 "metadata": {
  "kernelspec": {
   "display_name": "Python 3",
   "language": "python",
   "name": "python3"
  },
  "language_info": {
   "codemirror_mode": {
    "name": "ipython",
    "version": 3
   },
   "file_extension": ".py",
   "mimetype": "text/x-python",
   "name": "python",
   "nbconvert_exporter": "python",
   "pygments_lexer": "ipython3",
   "version": "3.6.4"
  }
 },
 "nbformat": 4,
 "nbformat_minor": 2
}
