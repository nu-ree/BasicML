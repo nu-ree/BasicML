{
 "cells": [
  {
   "cell_type": "markdown",
   "metadata": {},
   "source": [
    "# 목차\n",
    "### Part1. PCA(Principal Component Analysis) on USArrest\n",
    "### Part2.K-means clustering on USArrest"
   ]
  },
  {
   "cell_type": "code",
   "execution_count": null,
   "metadata": {},
   "outputs": [],
   "source": []
  },
  {
   "cell_type": "markdown",
   "metadata": {},
   "source": [
    "# Part1. PCA(Principal Component Analysis) on USArrest\n",
    "\n",
    "이번 과제는 다음과 같은 순서로 정리하였습니다. \n",
    "    1. 데이터 준비하기(불러와서 표준화하기)\n",
    "    2. 싸이킷런의 PCA 활용하기\n",
    "    3. 직접 PCA 구해보기\n",
    "    4. 차원축소한 데이터 그래프에 그려보기\n",
    "    5. Scree Plot 그려보기"
   ]
  },
  {
   "cell_type": "code",
   "execution_count": 170,
   "metadata": {},
   "outputs": [],
   "source": [
    "import pandas as pd\n",
    "from sklearn.preprocessing import StandardScaler \n",
    "from sklearn.decomposition import PCA\n",
    "import numpy as np\n",
    "import matplotlib.pyplot as plt"
   ]
  },
  {
   "cell_type": "code",
   "execution_count": 31,
   "metadata": {},
   "outputs": [],
   "source": [
    "pca = PCA()\n",
    "scaler = StandardScaler()"
   ]
  },
  {
   "cell_type": "markdown",
   "metadata": {},
   "source": [
    "## 1. 데이터 준비하기(불러와서 표준화하기)\n",
    "50개 주에 대한 Murder, Assault, Urbanpop, Rape 등의 데이터가 있는 USArrests.csv 파일을 가져옵니다."
   ]
  },
  {
   "cell_type": "code",
   "execution_count": 195,
   "metadata": {},
   "outputs": [
    {
     "data": {
      "text/html": [
       "<div>\n",
       "<style scoped>\n",
       "    .dataframe tbody tr th:only-of-type {\n",
       "        vertical-align: middle;\n",
       "    }\n",
       "\n",
       "    .dataframe tbody tr th {\n",
       "        vertical-align: top;\n",
       "    }\n",
       "\n",
       "    .dataframe thead th {\n",
       "        text-align: right;\n",
       "    }\n",
       "</style>\n",
       "<table border=\"1\" class=\"dataframe\">\n",
       "  <thead>\n",
       "    <tr style=\"text-align: right;\">\n",
       "      <th></th>\n",
       "      <th>Murder</th>\n",
       "      <th>Assault</th>\n",
       "      <th>UrbanPop</th>\n",
       "      <th>Rape</th>\n",
       "    </tr>\n",
       "  </thead>\n",
       "  <tbody>\n",
       "    <tr>\n",
       "      <th>Alabama</th>\n",
       "      <td>13.2</td>\n",
       "      <td>236</td>\n",
       "      <td>58</td>\n",
       "      <td>21.2</td>\n",
       "    </tr>\n",
       "    <tr>\n",
       "      <th>Alaska</th>\n",
       "      <td>10.0</td>\n",
       "      <td>263</td>\n",
       "      <td>48</td>\n",
       "      <td>44.5</td>\n",
       "    </tr>\n",
       "    <tr>\n",
       "      <th>Arizona</th>\n",
       "      <td>8.1</td>\n",
       "      <td>294</td>\n",
       "      <td>80</td>\n",
       "      <td>31.0</td>\n",
       "    </tr>\n",
       "    <tr>\n",
       "      <th>Arkansas</th>\n",
       "      <td>8.8</td>\n",
       "      <td>190</td>\n",
       "      <td>50</td>\n",
       "      <td>19.5</td>\n",
       "    </tr>\n",
       "    <tr>\n",
       "      <th>California</th>\n",
       "      <td>9.0</td>\n",
       "      <td>276</td>\n",
       "      <td>91</td>\n",
       "      <td>40.6</td>\n",
       "    </tr>\n",
       "    <tr>\n",
       "      <th>Colorado</th>\n",
       "      <td>7.9</td>\n",
       "      <td>204</td>\n",
       "      <td>78</td>\n",
       "      <td>38.7</td>\n",
       "    </tr>\n",
       "    <tr>\n",
       "      <th>Connecticut</th>\n",
       "      <td>3.3</td>\n",
       "      <td>110</td>\n",
       "      <td>77</td>\n",
       "      <td>11.1</td>\n",
       "    </tr>\n",
       "    <tr>\n",
       "      <th>Delaware</th>\n",
       "      <td>5.9</td>\n",
       "      <td>238</td>\n",
       "      <td>72</td>\n",
       "      <td>15.8</td>\n",
       "    </tr>\n",
       "    <tr>\n",
       "      <th>Florida</th>\n",
       "      <td>15.4</td>\n",
       "      <td>335</td>\n",
       "      <td>80</td>\n",
       "      <td>31.9</td>\n",
       "    </tr>\n",
       "    <tr>\n",
       "      <th>Georgia</th>\n",
       "      <td>17.4</td>\n",
       "      <td>211</td>\n",
       "      <td>60</td>\n",
       "      <td>25.8</td>\n",
       "    </tr>\n",
       "  </tbody>\n",
       "</table>\n",
       "</div>"
      ],
      "text/plain": [
       "             Murder  Assault  UrbanPop  Rape\n",
       "Alabama        13.2      236        58  21.2\n",
       "Alaska         10.0      263        48  44.5\n",
       "Arizona         8.1      294        80  31.0\n",
       "Arkansas        8.8      190        50  19.5\n",
       "California      9.0      276        91  40.6\n",
       "Colorado        7.9      204        78  38.7\n",
       "Connecticut     3.3      110        77  11.1\n",
       "Delaware        5.9      238        72  15.8\n",
       "Florida        15.4      335        80  31.9\n",
       "Georgia        17.4      211        60  25.8"
      ]
     },
     "execution_count": 195,
     "metadata": {},
     "output_type": "execute_result"
    }
   ],
   "source": [
    "usarrests = pd.read_csv(\"USArrests.csv\", index_col=0)\n",
    "usarrests.head(10)"
   ]
  },
  {
   "cell_type": "code",
   "execution_count": 196,
   "metadata": {},
   "outputs": [
    {
     "data": {
      "text/plain": [
       "(50, 4)"
      ]
     },
     "execution_count": 196,
     "metadata": {},
     "output_type": "execute_result"
    }
   ],
   "source": [
    "usarrests.shape"
   ]
  },
  {
   "cell_type": "code",
   "execution_count": 273,
   "metadata": {},
   "outputs": [
    {
     "data": {
      "text/html": [
       "<div>\n",
       "<style scoped>\n",
       "    .dataframe tbody tr th:only-of-type {\n",
       "        vertical-align: middle;\n",
       "    }\n",
       "\n",
       "    .dataframe tbody tr th {\n",
       "        vertical-align: top;\n",
       "    }\n",
       "\n",
       "    .dataframe thead th {\n",
       "        text-align: right;\n",
       "    }\n",
       "</style>\n",
       "<table border=\"1\" class=\"dataframe\">\n",
       "  <thead>\n",
       "    <tr style=\"text-align: right;\">\n",
       "      <th></th>\n",
       "      <th>Murder</th>\n",
       "      <th>Assault</th>\n",
       "      <th>UrbanPop</th>\n",
       "      <th>Rape</th>\n",
       "    </tr>\n",
       "  </thead>\n",
       "  <tbody>\n",
       "    <tr>\n",
       "      <th>Alabama</th>\n",
       "      <td>13.2</td>\n",
       "      <td>236</td>\n",
       "      <td>58</td>\n",
       "      <td>21.2</td>\n",
       "    </tr>\n",
       "    <tr>\n",
       "      <th>Alaska</th>\n",
       "      <td>10.0</td>\n",
       "      <td>263</td>\n",
       "      <td>48</td>\n",
       "      <td>44.5</td>\n",
       "    </tr>\n",
       "    <tr>\n",
       "      <th>Arizona</th>\n",
       "      <td>8.1</td>\n",
       "      <td>294</td>\n",
       "      <td>80</td>\n",
       "      <td>31.0</td>\n",
       "    </tr>\n",
       "    <tr>\n",
       "      <th>Arkansas</th>\n",
       "      <td>8.8</td>\n",
       "      <td>190</td>\n",
       "      <td>50</td>\n",
       "      <td>19.5</td>\n",
       "    </tr>\n",
       "    <tr>\n",
       "      <th>California</th>\n",
       "      <td>9.0</td>\n",
       "      <td>276</td>\n",
       "      <td>91</td>\n",
       "      <td>40.6</td>\n",
       "    </tr>\n",
       "    <tr>\n",
       "      <th>Colorado</th>\n",
       "      <td>7.9</td>\n",
       "      <td>204</td>\n",
       "      <td>78</td>\n",
       "      <td>38.7</td>\n",
       "    </tr>\n",
       "    <tr>\n",
       "      <th>Connecticut</th>\n",
       "      <td>3.3</td>\n",
       "      <td>110</td>\n",
       "      <td>77</td>\n",
       "      <td>11.1</td>\n",
       "    </tr>\n",
       "    <tr>\n",
       "      <th>Delaware</th>\n",
       "      <td>5.9</td>\n",
       "      <td>238</td>\n",
       "      <td>72</td>\n",
       "      <td>15.8</td>\n",
       "    </tr>\n",
       "    <tr>\n",
       "      <th>Florida</th>\n",
       "      <td>15.4</td>\n",
       "      <td>335</td>\n",
       "      <td>80</td>\n",
       "      <td>31.9</td>\n",
       "    </tr>\n",
       "    <tr>\n",
       "      <th>Georgia</th>\n",
       "      <td>17.4</td>\n",
       "      <td>211</td>\n",
       "      <td>60</td>\n",
       "      <td>25.8</td>\n",
       "    </tr>\n",
       "    <tr>\n",
       "      <th>Hawaii</th>\n",
       "      <td>5.3</td>\n",
       "      <td>46</td>\n",
       "      <td>83</td>\n",
       "      <td>20.2</td>\n",
       "    </tr>\n",
       "    <tr>\n",
       "      <th>Idaho</th>\n",
       "      <td>2.6</td>\n",
       "      <td>120</td>\n",
       "      <td>54</td>\n",
       "      <td>14.2</td>\n",
       "    </tr>\n",
       "    <tr>\n",
       "      <th>Illinois</th>\n",
       "      <td>10.4</td>\n",
       "      <td>249</td>\n",
       "      <td>83</td>\n",
       "      <td>24.0</td>\n",
       "    </tr>\n",
       "    <tr>\n",
       "      <th>Indiana</th>\n",
       "      <td>7.2</td>\n",
       "      <td>113</td>\n",
       "      <td>65</td>\n",
       "      <td>21.0</td>\n",
       "    </tr>\n",
       "    <tr>\n",
       "      <th>Iowa</th>\n",
       "      <td>2.2</td>\n",
       "      <td>56</td>\n",
       "      <td>57</td>\n",
       "      <td>11.3</td>\n",
       "    </tr>\n",
       "    <tr>\n",
       "      <th>Kansas</th>\n",
       "      <td>6.0</td>\n",
       "      <td>115</td>\n",
       "      <td>66</td>\n",
       "      <td>18.0</td>\n",
       "    </tr>\n",
       "    <tr>\n",
       "      <th>Kentucky</th>\n",
       "      <td>9.7</td>\n",
       "      <td>109</td>\n",
       "      <td>52</td>\n",
       "      <td>16.3</td>\n",
       "    </tr>\n",
       "    <tr>\n",
       "      <th>Louisiana</th>\n",
       "      <td>15.4</td>\n",
       "      <td>249</td>\n",
       "      <td>66</td>\n",
       "      <td>22.2</td>\n",
       "    </tr>\n",
       "    <tr>\n",
       "      <th>Maine</th>\n",
       "      <td>2.1</td>\n",
       "      <td>83</td>\n",
       "      <td>51</td>\n",
       "      <td>7.8</td>\n",
       "    </tr>\n",
       "    <tr>\n",
       "      <th>Maryland</th>\n",
       "      <td>11.3</td>\n",
       "      <td>300</td>\n",
       "      <td>67</td>\n",
       "      <td>27.8</td>\n",
       "    </tr>\n",
       "    <tr>\n",
       "      <th>Massachusetts</th>\n",
       "      <td>4.4</td>\n",
       "      <td>149</td>\n",
       "      <td>85</td>\n",
       "      <td>16.3</td>\n",
       "    </tr>\n",
       "    <tr>\n",
       "      <th>Michigan</th>\n",
       "      <td>12.1</td>\n",
       "      <td>255</td>\n",
       "      <td>74</td>\n",
       "      <td>35.1</td>\n",
       "    </tr>\n",
       "    <tr>\n",
       "      <th>Minnesota</th>\n",
       "      <td>2.7</td>\n",
       "      <td>72</td>\n",
       "      <td>66</td>\n",
       "      <td>14.9</td>\n",
       "    </tr>\n",
       "    <tr>\n",
       "      <th>Mississippi</th>\n",
       "      <td>16.1</td>\n",
       "      <td>259</td>\n",
       "      <td>44</td>\n",
       "      <td>17.1</td>\n",
       "    </tr>\n",
       "    <tr>\n",
       "      <th>Missouri</th>\n",
       "      <td>9.0</td>\n",
       "      <td>178</td>\n",
       "      <td>70</td>\n",
       "      <td>28.2</td>\n",
       "    </tr>\n",
       "    <tr>\n",
       "      <th>Montana</th>\n",
       "      <td>6.0</td>\n",
       "      <td>109</td>\n",
       "      <td>53</td>\n",
       "      <td>16.4</td>\n",
       "    </tr>\n",
       "    <tr>\n",
       "      <th>Nebraska</th>\n",
       "      <td>4.3</td>\n",
       "      <td>102</td>\n",
       "      <td>62</td>\n",
       "      <td>16.5</td>\n",
       "    </tr>\n",
       "    <tr>\n",
       "      <th>Nevada</th>\n",
       "      <td>12.2</td>\n",
       "      <td>252</td>\n",
       "      <td>81</td>\n",
       "      <td>46.0</td>\n",
       "    </tr>\n",
       "    <tr>\n",
       "      <th>New Hampshire</th>\n",
       "      <td>2.1</td>\n",
       "      <td>57</td>\n",
       "      <td>56</td>\n",
       "      <td>9.5</td>\n",
       "    </tr>\n",
       "    <tr>\n",
       "      <th>New Jersey</th>\n",
       "      <td>7.4</td>\n",
       "      <td>159</td>\n",
       "      <td>89</td>\n",
       "      <td>18.8</td>\n",
       "    </tr>\n",
       "    <tr>\n",
       "      <th>New Mexico</th>\n",
       "      <td>11.4</td>\n",
       "      <td>285</td>\n",
       "      <td>70</td>\n",
       "      <td>32.1</td>\n",
       "    </tr>\n",
       "    <tr>\n",
       "      <th>New York</th>\n",
       "      <td>11.1</td>\n",
       "      <td>254</td>\n",
       "      <td>86</td>\n",
       "      <td>26.1</td>\n",
       "    </tr>\n",
       "    <tr>\n",
       "      <th>North Carolina</th>\n",
       "      <td>13.0</td>\n",
       "      <td>337</td>\n",
       "      <td>45</td>\n",
       "      <td>16.1</td>\n",
       "    </tr>\n",
       "    <tr>\n",
       "      <th>North Dakota</th>\n",
       "      <td>0.8</td>\n",
       "      <td>45</td>\n",
       "      <td>44</td>\n",
       "      <td>7.3</td>\n",
       "    </tr>\n",
       "    <tr>\n",
       "      <th>Ohio</th>\n",
       "      <td>7.3</td>\n",
       "      <td>120</td>\n",
       "      <td>75</td>\n",
       "      <td>21.4</td>\n",
       "    </tr>\n",
       "    <tr>\n",
       "      <th>Oklahoma</th>\n",
       "      <td>6.6</td>\n",
       "      <td>151</td>\n",
       "      <td>68</td>\n",
       "      <td>20.0</td>\n",
       "    </tr>\n",
       "    <tr>\n",
       "      <th>Oregon</th>\n",
       "      <td>4.9</td>\n",
       "      <td>159</td>\n",
       "      <td>67</td>\n",
       "      <td>29.3</td>\n",
       "    </tr>\n",
       "    <tr>\n",
       "      <th>Pennsylvania</th>\n",
       "      <td>6.3</td>\n",
       "      <td>106</td>\n",
       "      <td>72</td>\n",
       "      <td>14.9</td>\n",
       "    </tr>\n",
       "    <tr>\n",
       "      <th>Rhode Island</th>\n",
       "      <td>3.4</td>\n",
       "      <td>174</td>\n",
       "      <td>87</td>\n",
       "      <td>8.3</td>\n",
       "    </tr>\n",
       "    <tr>\n",
       "      <th>South Carolina</th>\n",
       "      <td>14.4</td>\n",
       "      <td>279</td>\n",
       "      <td>48</td>\n",
       "      <td>22.5</td>\n",
       "    </tr>\n",
       "    <tr>\n",
       "      <th>South Dakota</th>\n",
       "      <td>3.8</td>\n",
       "      <td>86</td>\n",
       "      <td>45</td>\n",
       "      <td>12.8</td>\n",
       "    </tr>\n",
       "    <tr>\n",
       "      <th>Tennessee</th>\n",
       "      <td>13.2</td>\n",
       "      <td>188</td>\n",
       "      <td>59</td>\n",
       "      <td>26.9</td>\n",
       "    </tr>\n",
       "    <tr>\n",
       "      <th>Texas</th>\n",
       "      <td>12.7</td>\n",
       "      <td>201</td>\n",
       "      <td>80</td>\n",
       "      <td>25.5</td>\n",
       "    </tr>\n",
       "    <tr>\n",
       "      <th>Utah</th>\n",
       "      <td>3.2</td>\n",
       "      <td>120</td>\n",
       "      <td>80</td>\n",
       "      <td>22.9</td>\n",
       "    </tr>\n",
       "    <tr>\n",
       "      <th>Vermont</th>\n",
       "      <td>2.2</td>\n",
       "      <td>48</td>\n",
       "      <td>32</td>\n",
       "      <td>11.2</td>\n",
       "    </tr>\n",
       "    <tr>\n",
       "      <th>Virginia</th>\n",
       "      <td>8.5</td>\n",
       "      <td>156</td>\n",
       "      <td>63</td>\n",
       "      <td>20.7</td>\n",
       "    </tr>\n",
       "    <tr>\n",
       "      <th>Washington</th>\n",
       "      <td>4.0</td>\n",
       "      <td>145</td>\n",
       "      <td>73</td>\n",
       "      <td>26.2</td>\n",
       "    </tr>\n",
       "    <tr>\n",
       "      <th>West Virginia</th>\n",
       "      <td>5.7</td>\n",
       "      <td>81</td>\n",
       "      <td>39</td>\n",
       "      <td>9.3</td>\n",
       "    </tr>\n",
       "    <tr>\n",
       "      <th>Wisconsin</th>\n",
       "      <td>2.6</td>\n",
       "      <td>53</td>\n",
       "      <td>66</td>\n",
       "      <td>10.8</td>\n",
       "    </tr>\n",
       "    <tr>\n",
       "      <th>Wyoming</th>\n",
       "      <td>6.8</td>\n",
       "      <td>161</td>\n",
       "      <td>60</td>\n",
       "      <td>15.6</td>\n",
       "    </tr>\n",
       "  </tbody>\n",
       "</table>\n",
       "</div>"
      ],
      "text/plain": [
       "                Murder  Assault  UrbanPop  Rape\n",
       "Alabama           13.2      236        58  21.2\n",
       "Alaska            10.0      263        48  44.5\n",
       "Arizona            8.1      294        80  31.0\n",
       "Arkansas           8.8      190        50  19.5\n",
       "California         9.0      276        91  40.6\n",
       "Colorado           7.9      204        78  38.7\n",
       "Connecticut        3.3      110        77  11.1\n",
       "Delaware           5.9      238        72  15.8\n",
       "Florida           15.4      335        80  31.9\n",
       "Georgia           17.4      211        60  25.8\n",
       "Hawaii             5.3       46        83  20.2\n",
       "Idaho              2.6      120        54  14.2\n",
       "Illinois          10.4      249        83  24.0\n",
       "Indiana            7.2      113        65  21.0\n",
       "Iowa               2.2       56        57  11.3\n",
       "Kansas             6.0      115        66  18.0\n",
       "Kentucky           9.7      109        52  16.3\n",
       "Louisiana         15.4      249        66  22.2\n",
       "Maine              2.1       83        51   7.8\n",
       "Maryland          11.3      300        67  27.8\n",
       "Massachusetts      4.4      149        85  16.3\n",
       "Michigan          12.1      255        74  35.1\n",
       "Minnesota          2.7       72        66  14.9\n",
       "Mississippi       16.1      259        44  17.1\n",
       "Missouri           9.0      178        70  28.2\n",
       "Montana            6.0      109        53  16.4\n",
       "Nebraska           4.3      102        62  16.5\n",
       "Nevada            12.2      252        81  46.0\n",
       "New Hampshire      2.1       57        56   9.5\n",
       "New Jersey         7.4      159        89  18.8\n",
       "New Mexico        11.4      285        70  32.1\n",
       "New York          11.1      254        86  26.1\n",
       "North Carolina    13.0      337        45  16.1\n",
       "North Dakota       0.8       45        44   7.3\n",
       "Ohio               7.3      120        75  21.4\n",
       "Oklahoma           6.6      151        68  20.0\n",
       "Oregon             4.9      159        67  29.3\n",
       "Pennsylvania       6.3      106        72  14.9\n",
       "Rhode Island       3.4      174        87   8.3\n",
       "South Carolina    14.4      279        48  22.5\n",
       "South Dakota       3.8       86        45  12.8\n",
       "Tennessee         13.2      188        59  26.9\n",
       "Texas             12.7      201        80  25.5\n",
       "Utah               3.2      120        80  22.9\n",
       "Vermont            2.2       48        32  11.2\n",
       "Virginia           8.5      156        63  20.7\n",
       "Washington         4.0      145        73  26.2\n",
       "West Virginia      5.7       81        39   9.3\n",
       "Wisconsin          2.6       53        66  10.8\n",
       "Wyoming            6.8      161        60  15.6"
      ]
     },
     "execution_count": 273,
     "metadata": {},
     "output_type": "execute_result"
    }
   ],
   "source": [
    "usarrests"
   ]
  },
  {
   "cell_type": "markdown",
   "metadata": {},
   "source": [
    "#### 표준화하기"
   ]
  },
  {
   "cell_type": "markdown",
   "metadata": {},
   "source": [
    "PCA를 하기 위해서는 우선 데이터를 표준화(standardize)하여 단위(scale)를 맞춰줘야 합니다. 이 과정을 거치지 않으면, 값이 큰 Assult 같은 변수로 PCA 결과가 편향될 수 있습니다. 표준화를 쉽게 할 수 있는 StandardScaler를 활용하겠습니다. \n",
    "- StandardScaler: http://scikit-learn.org/stable/modules/generated/sklearn.preprocessing.StandardScaler.html"
   ]
  },
  {
   "cell_type": "code",
   "execution_count": 76,
   "metadata": {},
   "outputs": [],
   "source": [
    "usarrests_scaled = scaler.fit_transform(usarrests)"
   ]
  },
  {
   "cell_type": "code",
   "execution_count": 69,
   "metadata": {
    "scrolled": false
   },
   "outputs": [
    {
     "data": {
      "text/html": [
       "<div>\n",
       "<style scoped>\n",
       "    .dataframe tbody tr th:only-of-type {\n",
       "        vertical-align: middle;\n",
       "    }\n",
       "\n",
       "    .dataframe tbody tr th {\n",
       "        vertical-align: top;\n",
       "    }\n",
       "\n",
       "    .dataframe thead th {\n",
       "        text-align: right;\n",
       "    }\n",
       "</style>\n",
       "<table border=\"1\" class=\"dataframe\">\n",
       "  <thead>\n",
       "    <tr style=\"text-align: right;\">\n",
       "      <th></th>\n",
       "      <th>0</th>\n",
       "      <th>1</th>\n",
       "      <th>2</th>\n",
       "      <th>3</th>\n",
       "    </tr>\n",
       "  </thead>\n",
       "  <tbody>\n",
       "    <tr>\n",
       "      <th>0</th>\n",
       "      <td>1.255179</td>\n",
       "      <td>0.790787</td>\n",
       "      <td>-0.526195</td>\n",
       "      <td>-0.003451</td>\n",
       "    </tr>\n",
       "    <tr>\n",
       "      <th>1</th>\n",
       "      <td>0.513019</td>\n",
       "      <td>1.118060</td>\n",
       "      <td>-1.224067</td>\n",
       "      <td>2.509424</td>\n",
       "    </tr>\n",
       "    <tr>\n",
       "      <th>2</th>\n",
       "      <td>0.072361</td>\n",
       "      <td>1.493817</td>\n",
       "      <td>1.009122</td>\n",
       "      <td>1.053466</td>\n",
       "    </tr>\n",
       "    <tr>\n",
       "      <th>3</th>\n",
       "      <td>0.234708</td>\n",
       "      <td>0.233212</td>\n",
       "      <td>-1.084492</td>\n",
       "      <td>-0.186794</td>\n",
       "    </tr>\n",
       "    <tr>\n",
       "      <th>4</th>\n",
       "      <td>0.281093</td>\n",
       "      <td>1.275635</td>\n",
       "      <td>1.776781</td>\n",
       "      <td>2.088814</td>\n",
       "    </tr>\n",
       "    <tr>\n",
       "      <th>5</th>\n",
       "      <td>0.025976</td>\n",
       "      <td>0.402909</td>\n",
       "      <td>0.869548</td>\n",
       "      <td>1.883901</td>\n",
       "    </tr>\n",
       "    <tr>\n",
       "      <th>6</th>\n",
       "      <td>-1.040880</td>\n",
       "      <td>-0.736484</td>\n",
       "      <td>0.799761</td>\n",
       "      <td>-1.092723</td>\n",
       "    </tr>\n",
       "    <tr>\n",
       "      <th>7</th>\n",
       "      <td>-0.437875</td>\n",
       "      <td>0.815030</td>\n",
       "      <td>0.450825</td>\n",
       "      <td>-0.585834</td>\n",
       "    </tr>\n",
       "    <tr>\n",
       "      <th>8</th>\n",
       "      <td>1.765415</td>\n",
       "      <td>1.990786</td>\n",
       "      <td>1.009122</td>\n",
       "      <td>1.150530</td>\n",
       "    </tr>\n",
       "    <tr>\n",
       "      <th>9</th>\n",
       "      <td>2.229265</td>\n",
       "      <td>0.487757</td>\n",
       "      <td>-0.386621</td>\n",
       "      <td>0.492653</td>\n",
       "    </tr>\n",
       "  </tbody>\n",
       "</table>\n",
       "</div>"
      ],
      "text/plain": [
       "          0         1         2         3\n",
       "0  1.255179  0.790787 -0.526195 -0.003451\n",
       "1  0.513019  1.118060 -1.224067  2.509424\n",
       "2  0.072361  1.493817  1.009122  1.053466\n",
       "3  0.234708  0.233212 -1.084492 -0.186794\n",
       "4  0.281093  1.275635  1.776781  2.088814\n",
       "5  0.025976  0.402909  0.869548  1.883901\n",
       "6 -1.040880 -0.736484  0.799761 -1.092723\n",
       "7 -0.437875  0.815030  0.450825 -0.585834\n",
       "8  1.765415  1.990786  1.009122  1.150530\n",
       "9  2.229265  0.487757 -0.386621  0.492653"
      ]
     },
     "execution_count": 69,
     "metadata": {},
     "output_type": "execute_result"
    }
   ],
   "source": [
    "pd.DataFrame(usarrests_scaled).head(10)"
   ]
  },
  {
   "cell_type": "markdown",
   "metadata": {},
   "source": [
    "## 2. 싸이킷런의 PCA 활용하기 \n",
    "싸이킷런의 PCA를 활용하면 쉽게 PCA를 해볼 수 있습니다.  "
   ]
  },
  {
   "cell_type": "code",
   "execution_count": 197,
   "metadata": {},
   "outputs": [],
   "source": [
    "# from sklearn.decomposition import PCA"
   ]
  },
  {
   "cell_type": "code",
   "execution_count": 212,
   "metadata": {},
   "outputs": [],
   "source": [
    "pca.fit(usarrests)\n",
    "usarrests_pca = pca.fit_transform(usarrests_scaled)"
   ]
  },
  {
   "cell_type": "code",
   "execution_count": 204,
   "metadata": {},
   "outputs": [
    {
     "data": {
      "text/html": [
       "<div>\n",
       "<style scoped>\n",
       "    .dataframe tbody tr th:only-of-type {\n",
       "        vertical-align: middle;\n",
       "    }\n",
       "\n",
       "    .dataframe tbody tr th {\n",
       "        vertical-align: top;\n",
       "    }\n",
       "\n",
       "    .dataframe thead th {\n",
       "        text-align: right;\n",
       "    }\n",
       "</style>\n",
       "<table border=\"1\" class=\"dataframe\">\n",
       "  <thead>\n",
       "    <tr style=\"text-align: right;\">\n",
       "      <th></th>\n",
       "      <th>PC1</th>\n",
       "      <th>PC2</th>\n",
       "      <th>PC3</th>\n",
       "      <th>PC4</th>\n",
       "    </tr>\n",
       "  </thead>\n",
       "  <tbody>\n",
       "    <tr>\n",
       "      <th>Murder</th>\n",
       "      <td>0.535899</td>\n",
       "      <td>0.418181</td>\n",
       "      <td>-0.341233</td>\n",
       "      <td>0.649228</td>\n",
       "    </tr>\n",
       "    <tr>\n",
       "      <th>Assault</th>\n",
       "      <td>0.583184</td>\n",
       "      <td>0.187986</td>\n",
       "      <td>-0.268148</td>\n",
       "      <td>-0.743407</td>\n",
       "    </tr>\n",
       "    <tr>\n",
       "      <th>UrbanPop</th>\n",
       "      <td>0.278191</td>\n",
       "      <td>-0.872806</td>\n",
       "      <td>-0.378016</td>\n",
       "      <td>0.133878</td>\n",
       "    </tr>\n",
       "    <tr>\n",
       "      <th>Rape</th>\n",
       "      <td>0.543432</td>\n",
       "      <td>-0.167319</td>\n",
       "      <td>0.817778</td>\n",
       "      <td>0.089024</td>\n",
       "    </tr>\n",
       "  </tbody>\n",
       "</table>\n",
       "</div>"
      ],
      "text/plain": [
       "               PC1       PC2       PC3       PC4\n",
       "Murder    0.535899  0.418181 -0.341233  0.649228\n",
       "Assault   0.583184  0.187986 -0.268148 -0.743407\n",
       "UrbanPop  0.278191 -0.872806 -0.378016  0.133878\n",
       "Rape      0.543432 -0.167319  0.817778  0.089024"
      ]
     },
     "execution_count": 204,
     "metadata": {},
     "output_type": "execute_result"
    }
   ],
   "source": [
    "pd.DataFrame(pca.components_.T,\n",
    "             index=usarrests.columns,\n",
    "             columns=['PC' + str(i+1) for i in range(len(pca.components_))])"
   ]
  },
  {
   "cell_type": "code",
   "execution_count": 213,
   "metadata": {},
   "outputs": [
    {
     "data": {
      "text/html": [
       "<div>\n",
       "<style scoped>\n",
       "    .dataframe tbody tr th:only-of-type {\n",
       "        vertical-align: middle;\n",
       "    }\n",
       "\n",
       "    .dataframe tbody tr th {\n",
       "        vertical-align: top;\n",
       "    }\n",
       "\n",
       "    .dataframe thead th {\n",
       "        text-align: right;\n",
       "    }\n",
       "</style>\n",
       "<table border=\"1\" class=\"dataframe\">\n",
       "  <thead>\n",
       "    <tr style=\"text-align: right;\">\n",
       "      <th></th>\n",
       "      <th>0</th>\n",
       "      <th>1</th>\n",
       "      <th>2</th>\n",
       "      <th>3</th>\n",
       "    </tr>\n",
       "  </thead>\n",
       "  <tbody>\n",
       "    <tr>\n",
       "      <th>0</th>\n",
       "      <td>0.985566</td>\n",
       "      <td>1.133392</td>\n",
       "      <td>-0.444269</td>\n",
       "      <td>0.156267</td>\n",
       "    </tr>\n",
       "    <tr>\n",
       "      <th>1</th>\n",
       "      <td>1.950138</td>\n",
       "      <td>1.073213</td>\n",
       "      <td>2.040003</td>\n",
       "      <td>-0.438583</td>\n",
       "    </tr>\n",
       "    <tr>\n",
       "      <th>2</th>\n",
       "      <td>1.763164</td>\n",
       "      <td>-0.745957</td>\n",
       "      <td>0.054781</td>\n",
       "      <td>-0.834653</td>\n",
       "    </tr>\n",
       "    <tr>\n",
       "      <th>3</th>\n",
       "      <td>-0.141420</td>\n",
       "      <td>1.119797</td>\n",
       "      <td>0.114574</td>\n",
       "      <td>-0.182811</td>\n",
       "    </tr>\n",
       "    <tr>\n",
       "      <th>4</th>\n",
       "      <td>2.523980</td>\n",
       "      <td>-1.542934</td>\n",
       "      <td>0.598557</td>\n",
       "      <td>-0.341996</td>\n",
       "    </tr>\n",
       "    <tr>\n",
       "      <th>5</th>\n",
       "      <td>1.514563</td>\n",
       "      <td>-0.987555</td>\n",
       "      <td>1.095007</td>\n",
       "      <td>0.001465</td>\n",
       "    </tr>\n",
       "    <tr>\n",
       "      <th>6</th>\n",
       "      <td>-1.358647</td>\n",
       "      <td>-1.088928</td>\n",
       "      <td>-0.643258</td>\n",
       "      <td>-0.118469</td>\n",
       "    </tr>\n",
       "    <tr>\n",
       "      <th>7</th>\n",
       "      <td>0.047709</td>\n",
       "      <td>-0.325359</td>\n",
       "      <td>-0.718633</td>\n",
       "      <td>-0.881978</td>\n",
       "    </tr>\n",
       "    <tr>\n",
       "      <th>8</th>\n",
       "      <td>3.013042</td>\n",
       "      <td>0.039229</td>\n",
       "      <td>-0.576829</td>\n",
       "      <td>-0.096285</td>\n",
       "    </tr>\n",
       "    <tr>\n",
       "      <th>9</th>\n",
       "      <td>1.639283</td>\n",
       "      <td>1.278942</td>\n",
       "      <td>-0.342460</td>\n",
       "      <td>1.076797</td>\n",
       "    </tr>\n",
       "    <tr>\n",
       "      <th>10</th>\n",
       "      <td>-0.912657</td>\n",
       "      <td>-1.570460</td>\n",
       "      <td>0.050782</td>\n",
       "      <td>0.902807</td>\n",
       "    </tr>\n",
       "    <tr>\n",
       "      <th>11</th>\n",
       "      <td>-1.639800</td>\n",
       "      <td>0.210973</td>\n",
       "      <td>0.259801</td>\n",
       "      <td>-0.499104</td>\n",
       "    </tr>\n",
       "    <tr>\n",
       "      <th>12</th>\n",
       "      <td>1.378911</td>\n",
       "      <td>-0.681841</td>\n",
       "      <td>-0.677496</td>\n",
       "      <td>-0.122021</td>\n",
       "    </tr>\n",
       "    <tr>\n",
       "      <th>13</th>\n",
       "      <td>-0.505461</td>\n",
       "      <td>-0.151563</td>\n",
       "      <td>0.228055</td>\n",
       "      <td>0.424666</td>\n",
       "    </tr>\n",
       "    <tr>\n",
       "      <th>14</th>\n",
       "      <td>-2.253646</td>\n",
       "      <td>-0.104054</td>\n",
       "      <td>0.164564</td>\n",
       "      <td>0.017556</td>\n",
       "    </tr>\n",
       "    <tr>\n",
       "      <th>15</th>\n",
       "      <td>-0.796881</td>\n",
       "      <td>-0.270165</td>\n",
       "      <td>0.025553</td>\n",
       "      <td>0.206496</td>\n",
       "    </tr>\n",
       "    <tr>\n",
       "      <th>16</th>\n",
       "      <td>-0.750859</td>\n",
       "      <td>0.958440</td>\n",
       "      <td>-0.028369</td>\n",
       "      <td>0.670557</td>\n",
       "    </tr>\n",
       "    <tr>\n",
       "      <th>17</th>\n",
       "      <td>1.564818</td>\n",
       "      <td>0.871055</td>\n",
       "      <td>-0.783480</td>\n",
       "      <td>0.454728</td>\n",
       "    </tr>\n",
       "    <tr>\n",
       "      <th>18</th>\n",
       "      <td>-2.396829</td>\n",
       "      <td>0.376392</td>\n",
       "      <td>-0.065682</td>\n",
       "      <td>-0.330460</td>\n",
       "    </tr>\n",
       "    <tr>\n",
       "      <th>19</th>\n",
       "      <td>1.763369</td>\n",
       "      <td>0.427655</td>\n",
       "      <td>-0.157250</td>\n",
       "      <td>-0.559070</td>\n",
       "    </tr>\n",
       "    <tr>\n",
       "      <th>20</th>\n",
       "      <td>-0.486166</td>\n",
       "      <td>-1.474496</td>\n",
       "      <td>-0.609497</td>\n",
       "      <td>-0.179599</td>\n",
       "    </tr>\n",
       "    <tr>\n",
       "      <th>21</th>\n",
       "      <td>2.108441</td>\n",
       "      <td>-0.155397</td>\n",
       "      <td>0.384869</td>\n",
       "      <td>0.102372</td>\n",
       "    </tr>\n",
       "    <tr>\n",
       "      <th>22</th>\n",
       "      <td>-1.692682</td>\n",
       "      <td>-0.632261</td>\n",
       "      <td>0.153070</td>\n",
       "      <td>0.067317</td>\n",
       "    </tr>\n",
       "    <tr>\n",
       "      <th>23</th>\n",
       "      <td>0.996494</td>\n",
       "      <td>2.393796</td>\n",
       "      <td>-0.740808</td>\n",
       "      <td>0.215508</td>\n",
       "    </tr>\n",
       "    <tr>\n",
       "      <th>24</th>\n",
       "      <td>0.696787</td>\n",
       "      <td>-0.263355</td>\n",
       "      <td>0.377444</td>\n",
       "      <td>0.225824</td>\n",
       "    </tr>\n",
       "    <tr>\n",
       "      <th>25</th>\n",
       "      <td>-1.185452</td>\n",
       "      <td>0.536874</td>\n",
       "      <td>0.246889</td>\n",
       "      <td>0.123742</td>\n",
       "    </tr>\n",
       "    <tr>\n",
       "      <th>26</th>\n",
       "      <td>-1.265637</td>\n",
       "      <td>-0.193954</td>\n",
       "      <td>0.175574</td>\n",
       "      <td>0.015893</td>\n",
       "    </tr>\n",
       "    <tr>\n",
       "      <th>27</th>\n",
       "      <td>2.874395</td>\n",
       "      <td>-0.775600</td>\n",
       "      <td>1.163380</td>\n",
       "      <td>0.314515</td>\n",
       "    </tr>\n",
       "    <tr>\n",
       "      <th>28</th>\n",
       "      <td>-2.383915</td>\n",
       "      <td>-0.018082</td>\n",
       "      <td>0.036855</td>\n",
       "      <td>-0.033137</td>\n",
       "    </tr>\n",
       "    <tr>\n",
       "      <th>29</th>\n",
       "      <td>0.181566</td>\n",
       "      <td>-1.449506</td>\n",
       "      <td>-0.764454</td>\n",
       "      <td>0.243383</td>\n",
       "    </tr>\n",
       "    <tr>\n",
       "      <th>30</th>\n",
       "      <td>1.980024</td>\n",
       "      <td>0.142849</td>\n",
       "      <td>0.183692</td>\n",
       "      <td>-0.339534</td>\n",
       "    </tr>\n",
       "    <tr>\n",
       "      <th>31</th>\n",
       "      <td>1.682577</td>\n",
       "      <td>-0.823184</td>\n",
       "      <td>-0.643075</td>\n",
       "      <td>-0.013484</td>\n",
       "    </tr>\n",
       "    <tr>\n",
       "      <th>32</th>\n",
       "      <td>1.123379</td>\n",
       "      <td>2.228003</td>\n",
       "      <td>-0.863572</td>\n",
       "      <td>-0.954382</td>\n",
       "    </tr>\n",
       "    <tr>\n",
       "      <th>33</th>\n",
       "      <td>-2.992226</td>\n",
       "      <td>0.599119</td>\n",
       "      <td>0.301277</td>\n",
       "      <td>-0.253987</td>\n",
       "    </tr>\n",
       "    <tr>\n",
       "      <th>34</th>\n",
       "      <td>-0.225965</td>\n",
       "      <td>-0.742238</td>\n",
       "      <td>-0.031139</td>\n",
       "      <td>0.473916</td>\n",
       "    </tr>\n",
       "    <tr>\n",
       "      <th>35</th>\n",
       "      <td>-0.311783</td>\n",
       "      <td>-0.287854</td>\n",
       "      <td>-0.015310</td>\n",
       "      <td>0.010332</td>\n",
       "    </tr>\n",
       "    <tr>\n",
       "      <th>36</th>\n",
       "      <td>0.059122</td>\n",
       "      <td>-0.541411</td>\n",
       "      <td>0.939833</td>\n",
       "      <td>-0.237781</td>\n",
       "    </tr>\n",
       "    <tr>\n",
       "      <th>37</th>\n",
       "      <td>-0.888416</td>\n",
       "      <td>-0.571100</td>\n",
       "      <td>-0.400629</td>\n",
       "      <td>0.359061</td>\n",
       "    </tr>\n",
       "    <tr>\n",
       "      <th>38</th>\n",
       "      <td>-0.863772</td>\n",
       "      <td>-1.491978</td>\n",
       "      <td>-1.369946</td>\n",
       "      <td>-0.613569</td>\n",
       "    </tr>\n",
       "    <tr>\n",
       "      <th>39</th>\n",
       "      <td>1.320724</td>\n",
       "      <td>1.933405</td>\n",
       "      <td>-0.300538</td>\n",
       "      <td>-0.131467</td>\n",
       "    </tr>\n",
       "    <tr>\n",
       "      <th>40</th>\n",
       "      <td>-1.987775</td>\n",
       "      <td>0.823343</td>\n",
       "      <td>0.389293</td>\n",
       "      <td>-0.109572</td>\n",
       "    </tr>\n",
       "    <tr>\n",
       "      <th>41</th>\n",
       "      <td>0.999742</td>\n",
       "      <td>0.860251</td>\n",
       "      <td>0.188083</td>\n",
       "      <td>0.652864</td>\n",
       "    </tr>\n",
       "    <tr>\n",
       "      <th>42</th>\n",
       "      <td>1.355138</td>\n",
       "      <td>-0.412481</td>\n",
       "      <td>-0.492069</td>\n",
       "      <td>0.643195</td>\n",
       "    </tr>\n",
       "    <tr>\n",
       "      <th>43</th>\n",
       "      <td>-0.550565</td>\n",
       "      <td>-1.471505</td>\n",
       "      <td>0.293728</td>\n",
       "      <td>-0.082314</td>\n",
       "    </tr>\n",
       "    <tr>\n",
       "      <th>44</th>\n",
       "      <td>-2.801412</td>\n",
       "      <td>1.402288</td>\n",
       "      <td>0.841263</td>\n",
       "      <td>-0.144890</td>\n",
       "    </tr>\n",
       "    <tr>\n",
       "      <th>45</th>\n",
       "      <td>-0.096335</td>\n",
       "      <td>0.199735</td>\n",
       "      <td>0.011713</td>\n",
       "      <td>0.211371</td>\n",
       "    </tr>\n",
       "    <tr>\n",
       "      <th>46</th>\n",
       "      <td>-0.216903</td>\n",
       "      <td>-0.970124</td>\n",
       "      <td>0.624871</td>\n",
       "      <td>-0.220848</td>\n",
       "    </tr>\n",
       "    <tr>\n",
       "      <th>47</th>\n",
       "      <td>-2.108585</td>\n",
       "      <td>1.424847</td>\n",
       "      <td>0.104775</td>\n",
       "      <td>0.131909</td>\n",
       "    </tr>\n",
       "    <tr>\n",
       "      <th>48</th>\n",
       "      <td>-2.079714</td>\n",
       "      <td>-0.611269</td>\n",
       "      <td>-0.138865</td>\n",
       "      <td>0.184104</td>\n",
       "    </tr>\n",
       "    <tr>\n",
       "      <th>49</th>\n",
       "      <td>-0.629427</td>\n",
       "      <td>0.321013</td>\n",
       "      <td>-0.240659</td>\n",
       "      <td>-0.166652</td>\n",
       "    </tr>\n",
       "  </tbody>\n",
       "</table>\n",
       "</div>"
      ],
      "text/plain": [
       "           0         1         2         3\n",
       "0   0.985566  1.133392 -0.444269  0.156267\n",
       "1   1.950138  1.073213  2.040003 -0.438583\n",
       "2   1.763164 -0.745957  0.054781 -0.834653\n",
       "3  -0.141420  1.119797  0.114574 -0.182811\n",
       "4   2.523980 -1.542934  0.598557 -0.341996\n",
       "5   1.514563 -0.987555  1.095007  0.001465\n",
       "6  -1.358647 -1.088928 -0.643258 -0.118469\n",
       "7   0.047709 -0.325359 -0.718633 -0.881978\n",
       "8   3.013042  0.039229 -0.576829 -0.096285\n",
       "9   1.639283  1.278942 -0.342460  1.076797\n",
       "10 -0.912657 -1.570460  0.050782  0.902807\n",
       "11 -1.639800  0.210973  0.259801 -0.499104\n",
       "12  1.378911 -0.681841 -0.677496 -0.122021\n",
       "13 -0.505461 -0.151563  0.228055  0.424666\n",
       "14 -2.253646 -0.104054  0.164564  0.017556\n",
       "15 -0.796881 -0.270165  0.025553  0.206496\n",
       "16 -0.750859  0.958440 -0.028369  0.670557\n",
       "17  1.564818  0.871055 -0.783480  0.454728\n",
       "18 -2.396829  0.376392 -0.065682 -0.330460\n",
       "19  1.763369  0.427655 -0.157250 -0.559070\n",
       "20 -0.486166 -1.474496 -0.609497 -0.179599\n",
       "21  2.108441 -0.155397  0.384869  0.102372\n",
       "22 -1.692682 -0.632261  0.153070  0.067317\n",
       "23  0.996494  2.393796 -0.740808  0.215508\n",
       "24  0.696787 -0.263355  0.377444  0.225824\n",
       "25 -1.185452  0.536874  0.246889  0.123742\n",
       "26 -1.265637 -0.193954  0.175574  0.015893\n",
       "27  2.874395 -0.775600  1.163380  0.314515\n",
       "28 -2.383915 -0.018082  0.036855 -0.033137\n",
       "29  0.181566 -1.449506 -0.764454  0.243383\n",
       "30  1.980024  0.142849  0.183692 -0.339534\n",
       "31  1.682577 -0.823184 -0.643075 -0.013484\n",
       "32  1.123379  2.228003 -0.863572 -0.954382\n",
       "33 -2.992226  0.599119  0.301277 -0.253987\n",
       "34 -0.225965 -0.742238 -0.031139  0.473916\n",
       "35 -0.311783 -0.287854 -0.015310  0.010332\n",
       "36  0.059122 -0.541411  0.939833 -0.237781\n",
       "37 -0.888416 -0.571100 -0.400629  0.359061\n",
       "38 -0.863772 -1.491978 -1.369946 -0.613569\n",
       "39  1.320724  1.933405 -0.300538 -0.131467\n",
       "40 -1.987775  0.823343  0.389293 -0.109572\n",
       "41  0.999742  0.860251  0.188083  0.652864\n",
       "42  1.355138 -0.412481 -0.492069  0.643195\n",
       "43 -0.550565 -1.471505  0.293728 -0.082314\n",
       "44 -2.801412  1.402288  0.841263 -0.144890\n",
       "45 -0.096335  0.199735  0.011713  0.211371\n",
       "46 -0.216903 -0.970124  0.624871 -0.220848\n",
       "47 -2.108585  1.424847  0.104775  0.131909\n",
       "48 -2.079714 -0.611269 -0.138865  0.184104\n",
       "49 -0.629427  0.321013 -0.240659 -0.166652"
      ]
     },
     "execution_count": 213,
     "metadata": {},
     "output_type": "execute_result"
    }
   ],
   "source": [
    "pd.DataFrame(usarrests_pca)\n",
    "# pca.components에 원본 데이터를 곱해서 subspace로 데이터를 옮긴 결과. "
   ]
  },
  {
   "attachments": {},
   "cell_type": "markdown",
   "metadata": {},
   "source": [
    "## 2. 직접 PCA 구해보기\n",
    "1. 공분산 행렬 구하기\n",
    "2. 공분산 행렬의 고유값 및 고유벡터 구하기(Eigen Decomposition or SVD 이용)\n",
    "3. 고유값 보고 주성분 확인하기\n",
    "4. 고유벡터에 원데이터 사영(project)하기\n",
    "\n",
    "**Reference:**\n",
    " - http://rfriend.tistory.com/185\n",
    " - https://machinelearningmastery.com/calculate-principal-component-analysis-scratch-python/\n",
    " - https://ratsgo.github.io/machine%20learning/2017/04/24/PCA/"
   ]
  },
  {
   "cell_type": "code",
   "execution_count": 108,
   "metadata": {},
   "outputs": [],
   "source": [
    "from numpy import array\n",
    "from numpy.linalg import eig, svd"
   ]
  },
  {
   "cell_type": "code",
   "execution_count": 102,
   "metadata": {},
   "outputs": [],
   "source": [
    "X = usarrests_scaled # scaled usarrests dataset"
   ]
  },
  {
   "cell_type": "markdown",
   "metadata": {},
   "source": [
    "### Step1. 공분산 행렬 구하기"
   ]
  },
  {
   "cell_type": "code",
   "execution_count": 129,
   "metadata": {},
   "outputs": [
    {
     "name": "stdout",
     "output_type": "stream",
     "text": [
      "[[1.02040816 0.81823807 0.07099247 0.57508044]\n",
      " [0.81823807 1.02040816 0.2641548  0.67881758]\n",
      " [0.07099247 0.2641548  1.02040816 0.41973595]\n",
      " [0.57508044 0.67881758 0.41973595 1.02040816]]\n"
     ]
    }
   ],
   "source": [
    "cov_X = cov(X.T)\n",
    "print(V)"
   ]
  },
  {
   "cell_type": "markdown",
   "metadata": {},
   "source": [
    "### Step2. 공분산 행렬의 고유값 및 고유벡터 구하기\n",
    "#### 방법1) np.linalg.eig 이용하기\n",
    "파이썬에서 고유값을 구하려면 numpy의 eig() 혹은 svd()를 이용해야 합니다. eig를 이용하면 행렬의 고유값과 고유벡터를 구할 수 있습니다. "
   ]
  },
  {
   "cell_type": "code",
   "execution_count": 130,
   "metadata": {
    "scrolled": true
   },
   "outputs": [
    {
     "name": "stdout",
     "output_type": "stream",
     "text": [
      "[2.53085875 1.00996444 0.17696948 0.36383998]\n",
      "[[ 0.53589947  0.41818087  0.6492278  -0.34123273]\n",
      " [ 0.58318363  0.1879856  -0.74340748 -0.26814843]\n",
      " [ 0.27819087 -0.87280619  0.13387773 -0.37801579]\n",
      " [ 0.54343209 -0.16731864  0.08902432  0.81777791]]\n"
     ]
    }
   ],
   "source": [
    "e_values, e_vectors = eig(cov_X)\n",
    "print(e_values)\n",
    "print(e_vectors)"
   ]
  },
  {
   "cell_type": "markdown",
   "metadata": {},
   "source": [
    "#### 방법2) np.linalg.svd 이용하기"
   ]
  },
  {
   "cell_type": "markdown",
   "metadata": {},
   "source": [
    "svd()를 이용하면 행렬A를 다음과 같은 세 가지 구성으로 분해해줍니다.\n",
    "\\begin{equation}\n",
    "A = U \\Sigma V^T\n",
    "\\end{equation}\n",
    "\n",
    "- U = AA^T 고유벡터\n",
    "- V^T = A^TA의 고유벡터 \n",
    "- Sigma = AA^T와 A^TA의 고유값의 제곱근(=특이값, singular value), 즉 A의 고유값을 대각원소로 가지고 나머지는 0인 대각행렬\n"
   ]
  },
  {
   "cell_type": "code",
   "execution_count": 133,
   "metadata": {
    "scrolled": false
   },
   "outputs": [
    {
     "name": "stdout",
     "output_type": "stream",
     "text": [
      "[[-0.53589947  0.41818087 -0.34123273  0.6492278 ]\n",
      " [-0.58318363  0.1879856  -0.26814843 -0.74340748]\n",
      " [-0.27819087 -0.87280619 -0.37801579  0.13387773]\n",
      " [-0.54343209 -0.16731864  0.81777791  0.08902432]]\n",
      "[2.53085875 1.00996444 0.36383998 0.17696948]\n",
      "[[-0.53589947 -0.58318363 -0.27819087 -0.54343209]\n",
      " [ 0.41818087  0.1879856  -0.87280619 -0.16731864]\n",
      " [-0.34123273 -0.26814843 -0.37801579  0.81777791]\n",
      " [ 0.6492278  -0.74340748  0.13387773  0.08902432]]\n"
     ]
    }
   ],
   "source": [
    "U, Sigma, V_t = svd(cov_X)\n",
    "print(U)\n",
    "print(Sigma)\n",
    "print(V_t)"
   ]
  },
  {
   "cell_type": "markdown",
   "metadata": {},
   "source": [
    "### Step3. 고유값 보고 주성분 확인하기"
   ]
  },
  {
   "cell_type": "markdown",
   "metadata": {},
   "source": [
    "고유값(eig의 e_values 또는 svd의 Sigma)를 확인해보면, 순서만 다르고, 똑같은 결과가 나옴을 확인할 수 있습니다. "
   ]
  },
  {
   "cell_type": "code",
   "execution_count": 134,
   "metadata": {},
   "outputs": [
    {
     "name": "stdout",
     "output_type": "stream",
     "text": [
      "[2.53085875 1.00996444 0.17696948 0.36383998]\n",
      "[2.53085875 1.00996444 0.36383998 0.17696948]\n"
     ]
    }
   ],
   "source": [
    "print(e_values)\n",
    "print(Sigma)"
   ]
  },
  {
   "cell_type": "markdown",
   "metadata": {},
   "source": [
    "### Step4. 로딩벡터에 원 데이터 곱하여 데이터 차원 축소하기 \n",
    "공분산행렬의 고유벡터는 원 데이터 X의 분산을 최대화해주는, PCA의 principal component loading값에 해당합니다. 로딩값 제곱의 합은 1로 제약을 두고 구해집니다. 확인해보겠습니다. "
   ]
  },
  {
   "cell_type": "code",
   "execution_count": 199,
   "metadata": {},
   "outputs": [
    {
     "data": {
      "text/plain": [
       "0    1.0\n",
       "1    1.0\n",
       "2    1.0\n",
       "3    1.0\n",
       "dtype: float64"
      ]
     },
     "execution_count": 199,
     "metadata": {},
     "output_type": "execute_result"
    }
   ],
   "source": [
    "(pd.DataFrame(e_vectors) ** 2).sum()"
   ]
  },
  {
   "cell_type": "markdown",
   "metadata": {},
   "source": [
    "또한, 위에서 pca()를 활용해 구한 pca.components_ 와 고유벡터가 같은 것을 확인할 수 있습니다. 고유값이 큰 상위 k개의 로딩 벡터를 선택하여, 여기에 원 데이터를 곱하게 되면(사영, projection)하게 되면, 차원이 축소된 데이터의 행렬을 구할 수 있습니다. "
   ]
  },
  {
   "cell_type": "markdown",
   "metadata": {},
   "source": [
    "\\begin{align*} \\overrightarrow { { \\alpha  }_{ p} } &= {eigen vector} \\\\\n",
    "\\overrightarrow { { z }_{ 11 } }, \\overrightarrow { { z }_{ 21 } }, ..., \\overrightarrow { { z }_{ n1 } } &= {PC1 scores} \\\\\n",
    "\\overrightarrow { { z }_{ 11 } } &={ \\alpha  }_{ 11 }\\overrightarrow { { x }_{ i1 } } +{ \\alpha  }_{ 21 }\\overrightarrow { { x }_{ i2 } } +...+{ \\alpha  }_{ p1 }\\overrightarrow { { x }_{ ip } } \\\\\n",
    "\\end{align*}"
   ]
  },
  {
   "cell_type": "code",
   "execution_count": 163,
   "metadata": {},
   "outputs": [
    {
     "name": "stdout",
     "output_type": "stream",
     "text": [
      "[2.53085875 1.00996444 0.17696948 0.36383998]\n"
     ]
    }
   ],
   "source": [
    "print(e_values)"
   ]
  },
  {
   "cell_type": "code",
   "execution_count": 164,
   "metadata": {},
   "outputs": [
    {
     "data": {
      "text/html": [
       "<div>\n",
       "<style scoped>\n",
       "    .dataframe tbody tr th:only-of-type {\n",
       "        vertical-align: middle;\n",
       "    }\n",
       "\n",
       "    .dataframe tbody tr th {\n",
       "        vertical-align: top;\n",
       "    }\n",
       "\n",
       "    .dataframe thead th {\n",
       "        text-align: right;\n",
       "    }\n",
       "</style>\n",
       "<table border=\"1\" class=\"dataframe\">\n",
       "  <thead>\n",
       "    <tr style=\"text-align: right;\">\n",
       "      <th></th>\n",
       "      <th>PC1</th>\n",
       "      <th>PC2</th>\n",
       "      <th>PC3</th>\n",
       "      <th>PC4</th>\n",
       "    </tr>\n",
       "  </thead>\n",
       "  <tbody>\n",
       "    <tr>\n",
       "      <th>Murder</th>\n",
       "      <td>0.535899</td>\n",
       "      <td>0.418181</td>\n",
       "      <td>0.649228</td>\n",
       "      <td>-0.341233</td>\n",
       "    </tr>\n",
       "    <tr>\n",
       "      <th>Assault</th>\n",
       "      <td>0.583184</td>\n",
       "      <td>0.187986</td>\n",
       "      <td>-0.743407</td>\n",
       "      <td>-0.268148</td>\n",
       "    </tr>\n",
       "    <tr>\n",
       "      <th>UrbanPop</th>\n",
       "      <td>0.278191</td>\n",
       "      <td>-0.872806</td>\n",
       "      <td>0.133878</td>\n",
       "      <td>-0.378016</td>\n",
       "    </tr>\n",
       "    <tr>\n",
       "      <th>Rape</th>\n",
       "      <td>0.543432</td>\n",
       "      <td>-0.167319</td>\n",
       "      <td>0.089024</td>\n",
       "      <td>0.817778</td>\n",
       "    </tr>\n",
       "  </tbody>\n",
       "</table>\n",
       "</div>"
      ],
      "text/plain": [
       "               PC1       PC2       PC3       PC4\n",
       "Murder    0.535899  0.418181  0.649228 -0.341233\n",
       "Assault   0.583184  0.187986 -0.743407 -0.268148\n",
       "UrbanPop  0.278191 -0.872806  0.133878 -0.378016\n",
       "Rape      0.543432 -0.167319  0.089024  0.817778"
      ]
     },
     "execution_count": 164,
     "metadata": {},
     "output_type": "execute_result"
    }
   ],
   "source": [
    "pd.DataFrame(e_vectors,\n",
    "             index=usarrests.columns,\n",
    "             columns=['PC' + str(i+1) for i in range(len(e_vectors))])"
   ]
  },
  {
   "cell_type": "markdown",
   "metadata": {},
   "source": [
    "첫번째, 두 번째 고유값이 가장 크게 나타남을 확인할 수 있습니다. 따라서 고유벡터에서 PC1, PC2에 해당하는 벡터만 가져와 데이터를 사영하면 데이터를 2차원으로 축소할 수 있을 것입니다."
   ]
  },
  {
   "cell_type": "code",
   "execution_count": 167,
   "metadata": {},
   "outputs": [
    {
     "data": {
      "text/plain": [
       "array([[ 0.53589947,  0.41818087],\n",
       "       [ 0.58318363,  0.1879856 ],\n",
       "       [ 0.27819087, -0.87280619],\n",
       "       [ 0.54343209, -0.16731864]])"
      ]
     },
     "execution_count": 167,
     "metadata": {},
     "output_type": "execute_result"
    }
   ],
   "source": [
    "pc1n2 = e_vectors[:,:2]\n",
    "pc1n2"
   ]
  },
  {
   "cell_type": "code",
   "execution_count": 168,
   "metadata": {
    "scrolled": true
   },
   "outputs": [
    {
     "data": {
      "text/html": [
       "<div>\n",
       "<style scoped>\n",
       "    .dataframe tbody tr th:only-of-type {\n",
       "        vertical-align: middle;\n",
       "    }\n",
       "\n",
       "    .dataframe tbody tr th {\n",
       "        vertical-align: top;\n",
       "    }\n",
       "\n",
       "    .dataframe thead th {\n",
       "        text-align: right;\n",
       "    }\n",
       "</style>\n",
       "<table border=\"1\" class=\"dataframe\">\n",
       "  <thead>\n",
       "    <tr style=\"text-align: right;\">\n",
       "      <th></th>\n",
       "      <th>0</th>\n",
       "      <th>1</th>\n",
       "    </tr>\n",
       "  </thead>\n",
       "  <tbody>\n",
       "    <tr>\n",
       "      <th>0</th>\n",
       "      <td>0.985566</td>\n",
       "      <td>1.133392</td>\n",
       "    </tr>\n",
       "    <tr>\n",
       "      <th>1</th>\n",
       "      <td>1.950138</td>\n",
       "      <td>1.073213</td>\n",
       "    </tr>\n",
       "    <tr>\n",
       "      <th>2</th>\n",
       "      <td>1.763164</td>\n",
       "      <td>-0.745957</td>\n",
       "    </tr>\n",
       "    <tr>\n",
       "      <th>3</th>\n",
       "      <td>-0.141420</td>\n",
       "      <td>1.119797</td>\n",
       "    </tr>\n",
       "    <tr>\n",
       "      <th>4</th>\n",
       "      <td>2.523980</td>\n",
       "      <td>-1.542934</td>\n",
       "    </tr>\n",
       "    <tr>\n",
       "      <th>5</th>\n",
       "      <td>1.514563</td>\n",
       "      <td>-0.987555</td>\n",
       "    </tr>\n",
       "    <tr>\n",
       "      <th>6</th>\n",
       "      <td>-1.358647</td>\n",
       "      <td>-1.088928</td>\n",
       "    </tr>\n",
       "    <tr>\n",
       "      <th>7</th>\n",
       "      <td>0.047709</td>\n",
       "      <td>-0.325359</td>\n",
       "    </tr>\n",
       "    <tr>\n",
       "      <th>8</th>\n",
       "      <td>3.013042</td>\n",
       "      <td>0.039229</td>\n",
       "    </tr>\n",
       "    <tr>\n",
       "      <th>9</th>\n",
       "      <td>1.639283</td>\n",
       "      <td>1.278942</td>\n",
       "    </tr>\n",
       "    <tr>\n",
       "      <th>10</th>\n",
       "      <td>-0.912657</td>\n",
       "      <td>-1.570460</td>\n",
       "    </tr>\n",
       "    <tr>\n",
       "      <th>11</th>\n",
       "      <td>-1.639800</td>\n",
       "      <td>0.210973</td>\n",
       "    </tr>\n",
       "    <tr>\n",
       "      <th>12</th>\n",
       "      <td>1.378911</td>\n",
       "      <td>-0.681841</td>\n",
       "    </tr>\n",
       "    <tr>\n",
       "      <th>13</th>\n",
       "      <td>-0.505461</td>\n",
       "      <td>-0.151563</td>\n",
       "    </tr>\n",
       "    <tr>\n",
       "      <th>14</th>\n",
       "      <td>-2.253646</td>\n",
       "      <td>-0.104054</td>\n",
       "    </tr>\n",
       "    <tr>\n",
       "      <th>15</th>\n",
       "      <td>-0.796881</td>\n",
       "      <td>-0.270165</td>\n",
       "    </tr>\n",
       "    <tr>\n",
       "      <th>16</th>\n",
       "      <td>-0.750859</td>\n",
       "      <td>0.958440</td>\n",
       "    </tr>\n",
       "    <tr>\n",
       "      <th>17</th>\n",
       "      <td>1.564818</td>\n",
       "      <td>0.871055</td>\n",
       "    </tr>\n",
       "    <tr>\n",
       "      <th>18</th>\n",
       "      <td>-2.396829</td>\n",
       "      <td>0.376392</td>\n",
       "    </tr>\n",
       "    <tr>\n",
       "      <th>19</th>\n",
       "      <td>1.763369</td>\n",
       "      <td>0.427655</td>\n",
       "    </tr>\n",
       "    <tr>\n",
       "      <th>20</th>\n",
       "      <td>-0.486166</td>\n",
       "      <td>-1.474496</td>\n",
       "    </tr>\n",
       "    <tr>\n",
       "      <th>21</th>\n",
       "      <td>2.108441</td>\n",
       "      <td>-0.155397</td>\n",
       "    </tr>\n",
       "    <tr>\n",
       "      <th>22</th>\n",
       "      <td>-1.692682</td>\n",
       "      <td>-0.632261</td>\n",
       "    </tr>\n",
       "    <tr>\n",
       "      <th>23</th>\n",
       "      <td>0.996494</td>\n",
       "      <td>2.393796</td>\n",
       "    </tr>\n",
       "    <tr>\n",
       "      <th>24</th>\n",
       "      <td>0.696787</td>\n",
       "      <td>-0.263355</td>\n",
       "    </tr>\n",
       "    <tr>\n",
       "      <th>25</th>\n",
       "      <td>-1.185452</td>\n",
       "      <td>0.536874</td>\n",
       "    </tr>\n",
       "    <tr>\n",
       "      <th>26</th>\n",
       "      <td>-1.265637</td>\n",
       "      <td>-0.193954</td>\n",
       "    </tr>\n",
       "    <tr>\n",
       "      <th>27</th>\n",
       "      <td>2.874395</td>\n",
       "      <td>-0.775600</td>\n",
       "    </tr>\n",
       "    <tr>\n",
       "      <th>28</th>\n",
       "      <td>-2.383915</td>\n",
       "      <td>-0.018082</td>\n",
       "    </tr>\n",
       "    <tr>\n",
       "      <th>29</th>\n",
       "      <td>0.181566</td>\n",
       "      <td>-1.449506</td>\n",
       "    </tr>\n",
       "    <tr>\n",
       "      <th>30</th>\n",
       "      <td>1.980024</td>\n",
       "      <td>0.142849</td>\n",
       "    </tr>\n",
       "    <tr>\n",
       "      <th>31</th>\n",
       "      <td>1.682577</td>\n",
       "      <td>-0.823184</td>\n",
       "    </tr>\n",
       "    <tr>\n",
       "      <th>32</th>\n",
       "      <td>1.123379</td>\n",
       "      <td>2.228003</td>\n",
       "    </tr>\n",
       "    <tr>\n",
       "      <th>33</th>\n",
       "      <td>-2.992226</td>\n",
       "      <td>0.599119</td>\n",
       "    </tr>\n",
       "    <tr>\n",
       "      <th>34</th>\n",
       "      <td>-0.225965</td>\n",
       "      <td>-0.742238</td>\n",
       "    </tr>\n",
       "    <tr>\n",
       "      <th>35</th>\n",
       "      <td>-0.311783</td>\n",
       "      <td>-0.287854</td>\n",
       "    </tr>\n",
       "    <tr>\n",
       "      <th>36</th>\n",
       "      <td>0.059122</td>\n",
       "      <td>-0.541411</td>\n",
       "    </tr>\n",
       "    <tr>\n",
       "      <th>37</th>\n",
       "      <td>-0.888416</td>\n",
       "      <td>-0.571100</td>\n",
       "    </tr>\n",
       "    <tr>\n",
       "      <th>38</th>\n",
       "      <td>-0.863772</td>\n",
       "      <td>-1.491978</td>\n",
       "    </tr>\n",
       "    <tr>\n",
       "      <th>39</th>\n",
       "      <td>1.320724</td>\n",
       "      <td>1.933405</td>\n",
       "    </tr>\n",
       "    <tr>\n",
       "      <th>40</th>\n",
       "      <td>-1.987775</td>\n",
       "      <td>0.823343</td>\n",
       "    </tr>\n",
       "    <tr>\n",
       "      <th>41</th>\n",
       "      <td>0.999742</td>\n",
       "      <td>0.860251</td>\n",
       "    </tr>\n",
       "    <tr>\n",
       "      <th>42</th>\n",
       "      <td>1.355138</td>\n",
       "      <td>-0.412481</td>\n",
       "    </tr>\n",
       "    <tr>\n",
       "      <th>43</th>\n",
       "      <td>-0.550565</td>\n",
       "      <td>-1.471505</td>\n",
       "    </tr>\n",
       "    <tr>\n",
       "      <th>44</th>\n",
       "      <td>-2.801412</td>\n",
       "      <td>1.402288</td>\n",
       "    </tr>\n",
       "    <tr>\n",
       "      <th>45</th>\n",
       "      <td>-0.096335</td>\n",
       "      <td>0.199735</td>\n",
       "    </tr>\n",
       "    <tr>\n",
       "      <th>46</th>\n",
       "      <td>-0.216903</td>\n",
       "      <td>-0.970124</td>\n",
       "    </tr>\n",
       "    <tr>\n",
       "      <th>47</th>\n",
       "      <td>-2.108585</td>\n",
       "      <td>1.424847</td>\n",
       "    </tr>\n",
       "    <tr>\n",
       "      <th>48</th>\n",
       "      <td>-2.079714</td>\n",
       "      <td>-0.611269</td>\n",
       "    </tr>\n",
       "    <tr>\n",
       "      <th>49</th>\n",
       "      <td>-0.629427</td>\n",
       "      <td>0.321013</td>\n",
       "    </tr>\n",
       "  </tbody>\n",
       "</table>\n",
       "</div>"
      ],
      "text/plain": [
       "           0         1\n",
       "0   0.985566  1.133392\n",
       "1   1.950138  1.073213\n",
       "2   1.763164 -0.745957\n",
       "3  -0.141420  1.119797\n",
       "4   2.523980 -1.542934\n",
       "5   1.514563 -0.987555\n",
       "6  -1.358647 -1.088928\n",
       "7   0.047709 -0.325359\n",
       "8   3.013042  0.039229\n",
       "9   1.639283  1.278942\n",
       "10 -0.912657 -1.570460\n",
       "11 -1.639800  0.210973\n",
       "12  1.378911 -0.681841\n",
       "13 -0.505461 -0.151563\n",
       "14 -2.253646 -0.104054\n",
       "15 -0.796881 -0.270165\n",
       "16 -0.750859  0.958440\n",
       "17  1.564818  0.871055\n",
       "18 -2.396829  0.376392\n",
       "19  1.763369  0.427655\n",
       "20 -0.486166 -1.474496\n",
       "21  2.108441 -0.155397\n",
       "22 -1.692682 -0.632261\n",
       "23  0.996494  2.393796\n",
       "24  0.696787 -0.263355\n",
       "25 -1.185452  0.536874\n",
       "26 -1.265637 -0.193954\n",
       "27  2.874395 -0.775600\n",
       "28 -2.383915 -0.018082\n",
       "29  0.181566 -1.449506\n",
       "30  1.980024  0.142849\n",
       "31  1.682577 -0.823184\n",
       "32  1.123379  2.228003\n",
       "33 -2.992226  0.599119\n",
       "34 -0.225965 -0.742238\n",
       "35 -0.311783 -0.287854\n",
       "36  0.059122 -0.541411\n",
       "37 -0.888416 -0.571100\n",
       "38 -0.863772 -1.491978\n",
       "39  1.320724  1.933405\n",
       "40 -1.987775  0.823343\n",
       "41  0.999742  0.860251\n",
       "42  1.355138 -0.412481\n",
       "43 -0.550565 -1.471505\n",
       "44 -2.801412  1.402288\n",
       "45 -0.096335  0.199735\n",
       "46 -0.216903 -0.970124\n",
       "47 -2.108585  1.424847\n",
       "48 -2.079714 -0.611269\n",
       "49 -0.629427  0.321013"
      ]
     },
     "execution_count": 168,
     "metadata": {},
     "output_type": "execute_result"
    }
   ],
   "source": [
    "Projected_X_2D = pc1n2.T.dot(X.T)\n",
    "pd.DataFrame(Projected_X_2D.T)"
   ]
  },
  {
   "cell_type": "markdown",
   "metadata": {},
   "source": [
    "## 4. 차원축소한 데이터 그래프에 그려보기\n",
    "이를 2차원 그래프에 표현하면 다음과 같이 나타납니다. \n",
    "- Reference: https://nbviewer.jupyter.org/github/emredjan/ISL-python/blob/master/labs/lab_10.4_principal_components_analysis.ipynb"
   ]
  },
  {
   "cell_type": "code",
   "execution_count": 190,
   "metadata": {},
   "outputs": [],
   "source": [
    "xvector = e_vectors.T[0] \n",
    "yvector = -e_vectors.T[1]\n",
    "pc1 = Projected_X_2D[0]\n",
    "pc2 = -Projected_X_2D[1]"
   ]
  },
  {
   "cell_type": "code",
   "execution_count": 327,
   "metadata": {},
   "outputs": [
    {
     "data": {
      "image/png": "[encoded data removed]",
      "text/plain": [
       "<matplotlib.figure.Figure at 0x2658b4f7f98>"
      ]
     },
     "metadata": {},
     "output_type": "display_data"
    }
   ],
   "source": [
    "plt.figure(figsize=(8, 8))\n",
    "plt.title('Biplot PC1 & PC2', size=16)    \n",
    "plt.xlabel('1st Principal Component')\n",
    "plt.ylabel('2nd Principal Component')\n",
    "m = 0.5\n",
    "plt.xlim(min(pc1) - m, max(pc1) + m)\n",
    "plt.ylim(min(pc2) - m, max(pc2) + m)\n",
    "\n",
    "for i in range(len(pc1)):\n",
    "    plt.text(pc1[i], pc2[i], usarrests.index[i], color='black', alpha=0.4)\n",
    "    \n",
    "for i in range(len(xvector)):\n",
    "# arrows project features (ie columns from csv) as vectors onto PC axes\n",
    "    plt.arrow(0, 0, xvector[i]*max(pc1), yvector[i]*max(pc2),\n",
    "              color='r', width=0.005, head_width=0.1)\n",
    "    plt.text(xvector[i]*max(pc1)*1.1, yvector[i]*max(pc2)*1.1,\n",
    "             usarrests.columns[i], color='r', size=14)"
   ]
  },
  {
   "cell_type": "markdown",
   "metadata": {},
   "source": [
    "## 5. Scree Plot 그려보기\n",
    "지금은 변수가 많지 않아 (즉, 원본 데이터의 차원이 높지 않아) 적절한 수준으로 데이터의 차원을 축소할 수 있는 주성분의 수를 금방 알 수 있었지만, 변수가 많아지면 이런 방식으로 파악하기 어렵습니다. 각각의 주성분이 전체 분산에서 어느 정도를 설명하는지 보고, 설명량이 급격히 줄어드는 지점에서 주성분의 수를 결정하면 보다 정확한 결정을 할 수 있습니다. "
   ]
  },
  {
   "cell_type": "markdown",
   "metadata": {},
   "source": [
    "싸이킷런의 pca에서는 각각의 주성분이 설명하는 분산의 비율을 아래와 같이 계산해줍니다. "
   ]
  },
  {
   "cell_type": "code",
   "execution_count": 218,
   "metadata": {},
   "outputs": [
    {
     "name": "stdout",
     "output_type": "stream",
     "text": [
      "[0.62006039 0.24744129 0.0891408  0.04335752]\n"
     ]
    }
   ],
   "source": [
    "explained_variance = pca.explained_variance_ratio_\n",
    "print(explained_variance)"
   ]
  },
  {
   "cell_type": "code",
   "execution_count": 226,
   "metadata": {},
   "outputs": [
    {
     "data": {
      "text/plain": [
       "[<matplotlib.lines.Line2D at 0x26588a76c50>]"
      ]
     },
     "execution_count": 226,
     "metadata": {},
     "output_type": "execute_result"
    },
    {
     "data": {
      "image/png": "[encoded data removed]",
      "text/plain": [
       "<matplotlib.figure.Figure at 0x26588f374a8>"
      ]
     },
     "metadata": {},
     "output_type": "display_data"
    }
   ],
   "source": [
    "plt.title('Scree Plot', size=16)   \n",
    "plt.plot(explained_variance)"
   ]
  },
  {
   "cell_type": "markdown",
   "metadata": {},
   "source": [
    "주성분이 2개가 되는 지점에서 설명량이 급격히 줄어드는 것을 알 수 있습니다. 누적 설명량과 누적 scree plot을 그려보면 아래와 같습니다. "
   ]
  },
  {
   "cell_type": "code",
   "execution_count": 219,
   "metadata": {},
   "outputs": [
    {
     "name": "stdout",
     "output_type": "stream",
     "text": [
      "[ 62.01  86.75  95.66 100.  ]\n"
     ]
    }
   ],
   "source": [
    "cum_exp_var =np.cumsum(np.round(pca.explained_variance_ratio_, decimals=4)*100)\n",
    "print(cum_exp_var)"
   ]
  },
  {
   "cell_type": "code",
   "execution_count": 227,
   "metadata": {
    "scrolled": true
   },
   "outputs": [
    {
     "data": {
      "text/plain": [
       "[<matplotlib.lines.Line2D at 0x26588699f98>]"
      ]
     },
     "execution_count": 227,
     "metadata": {},
     "output_type": "execute_result"
    },
    {
     "data": {
      "image/png": "[encoded data removed]",
      "text/plain": [
       "<matplotlib.figure.Figure at 0x265886c7e80>"
      ]
     },
     "metadata": {},
     "output_type": "display_data"
    }
   ],
   "source": [
    "plt.title('Cummulative Scree Plot', size=16)   \n",
    "plt.plot(cum_exp_var)"
   ]
  },
  {
   "cell_type": "markdown",
   "metadata": {},
   "source": [
    "# Part2. K-means clustering on USArrest"
   ]
  },
  {
   "cell_type": "markdown",
   "metadata": {},
   "source": [
    "이 부분은 다음과 같은 순서로 정리하였습니다. \n",
    "    1. 4차원일 때 Kmeans를 통한 군집화\n",
    "    2. 2차원으로 축소한 후 다시 kmeans를 돌려 군집화"
   ]
  },
  {
   "cell_type": "code",
   "execution_count": 321,
   "metadata": {},
   "outputs": [],
   "source": [
    "from sklearn.cluster import KMeans"
   ]
  },
  {
   "cell_type": "code",
   "execution_count": 340,
   "metadata": {},
   "outputs": [
    {
     "data": {
      "image/png": "[encoded data removed]",
      "text/plain": [
       "<matplotlib.figure.Figure at 0x2658ae9c128>"
      ]
     },
     "metadata": {},
     "output_type": "display_data"
    }
   ],
   "source": [
    "import seaborn as sns\n",
    "color_p = sns.color_palette(\"husl\", 4)\n",
    "sns.palplot(color_p)"
   ]
  },
  {
   "cell_type": "markdown",
   "metadata": {},
   "source": [
    "## 1. 4차원일 때 Kmeans를 통한 군집화"
   ]
  },
  {
   "cell_type": "markdown",
   "metadata": {},
   "source": [
    "원본데이터를 표준화했던 usarrests_scaled 데이터는 변수가 4개인 4차원의 데이터입니다. 이 데이터를 가지고 k=2,3,4인 경우의 k-means 군집화를 각각 해보고 그래프를 그려보겠습니다. "
   ]
  },
  {
   "cell_type": "markdown",
   "metadata": {},
   "source": [
    "먼저, k=4로 정하여 군집화를 해보면 다음과 같은 결과가 나옵니다. "
   ]
  },
  {
   "cell_type": "code",
   "execution_count": 282,
   "metadata": {},
   "outputs": [],
   "source": [
    "kmeans_4 = KMeans(n_clusters=4, random_state=42, n_init=20)\n",
    "kmeans_4.fit(usarrests_scaled)\n",
    "k_4 = kmeans_4.labels_"
   ]
  },
  {
   "cell_type": "code",
   "execution_count": 349,
   "metadata": {
    "scrolled": true
   },
   "outputs": [
    {
     "data": {
      "image/png": "[encoded data removed]",
      "text/plain": [
       "<matplotlib.figure.Figure at 0x265890d4f28>"
      ]
     },
     "metadata": {},
     "output_type": "display_data"
    }
   ],
   "source": [
    "plt.figure(figsize=(8, 8))\n",
    "plt.title('K-Means Clustering with K=4', size=16)\n",
    "plt.xlabel('1st Principal Component')\n",
    "plt.ylabel('2nd Principal Component')\n",
    "m = 0.5\n",
    "plt.xlim(min(pc1) - m, max(pc1) + m)\n",
    "plt.ylim(min(pc2) - m, max(pc2) + m)\n",
    "for i in range(len(pc1)):\n",
    "    plt.text(pc1[i], pc2[i], usarrests.index[i], color=color_p[k_4[i]], alpha=0.8)"
   ]
  },
  {
   "cell_type": "markdown",
   "metadata": {},
   "source": [
    "각 클러스터의 변수별 평균값을 정리해보면 다음과 같습니다.\n",
    "- 분홍색: 0번 그룹. 도시 규모는 큰 편에 속하며(PC2 상단에 위치), 규모가 비슷한 다른 도시 클러스터(2번, 청록색) 보다 범죄는 적게 일어난다(PC1 왼쪽에 위치)\n",
    "- 국방색: 1번 그룹. 도시 규모는 작은 편에 속하며(PC2 하단에 위치), 규모가 비슷한 다른 도시 클러스터(3번, 보라색)보다 범죄는 많이 일어난다(PC1 우측에 위치)\n",
    "- 청록색: 2번 그룹. 도시 규모는 큰 편에 속하며(PC2 상단에 위치), 규모가 비슷한 다른 도시 클러스터(0번, 분홍색) 보다 범죄는 많이 일어난다(PC1 우측에 위치)\n",
    "- 보라색: 3번 그룹. 도시 규모는 작은 편에 속하며(PC2 하단에 위치), 규모가 비슷한 다른 도시 클러스터(1번, 국방색)보다 범죄는 적게 일어난다(PC1 좌측에 위치)"
   ]
  },
  {
   "cell_type": "code",
   "execution_count": 341,
   "metadata": {},
   "outputs": [
    {
     "data": {
      "image/png": "[encoded data removed]",
      "text/plain": [
       "<matplotlib.figure.Figure at 0x2658a6c0c88>"
      ]
     },
     "metadata": {},
     "output_type": "display_data"
    }
   ],
   "source": [
    "sns.palplot(color_p)"
   ]
  },
  {
   "cell_type": "code",
   "execution_count": 347,
   "metadata": {
    "scrolled": true
   },
   "outputs": [
    {
     "data": {
      "text/html": [
       "<div>\n",
       "<style scoped>\n",
       "    .dataframe tbody tr th:only-of-type {\n",
       "        vertical-align: middle;\n",
       "    }\n",
       "\n",
       "    .dataframe tbody tr th {\n",
       "        vertical-align: top;\n",
       "    }\n",
       "\n",
       "    .dataframe thead th {\n",
       "        text-align: right;\n",
       "    }\n",
       "</style>\n",
       "<table border=\"1\" class=\"dataframe\">\n",
       "  <thead>\n",
       "    <tr style=\"text-align: right;\">\n",
       "      <th></th>\n",
       "      <th>Murder</th>\n",
       "      <th>Assault</th>\n",
       "      <th>UrbanPop</th>\n",
       "      <th>Rape</th>\n",
       "    </tr>\n",
       "    <tr>\n",
       "      <th>K_4</th>\n",
       "      <th></th>\n",
       "      <th></th>\n",
       "      <th></th>\n",
       "      <th></th>\n",
       "    </tr>\n",
       "  </thead>\n",
       "  <tbody>\n",
       "    <tr>\n",
       "      <th>0</th>\n",
       "      <td>5.656250</td>\n",
       "      <td>138.875000</td>\n",
       "      <td>73.875000</td>\n",
       "      <td>18.781250</td>\n",
       "    </tr>\n",
       "    <tr>\n",
       "      <th>1</th>\n",
       "      <td>13.937500</td>\n",
       "      <td>243.625000</td>\n",
       "      <td>53.750000</td>\n",
       "      <td>21.412500</td>\n",
       "    </tr>\n",
       "    <tr>\n",
       "      <th>2</th>\n",
       "      <td>10.815385</td>\n",
       "      <td>257.384615</td>\n",
       "      <td>76.000000</td>\n",
       "      <td>33.192308</td>\n",
       "    </tr>\n",
       "    <tr>\n",
       "      <th>3</th>\n",
       "      <td>3.600000</td>\n",
       "      <td>78.538462</td>\n",
       "      <td>52.076923</td>\n",
       "      <td>12.176923</td>\n",
       "    </tr>\n",
       "  </tbody>\n",
       "</table>\n",
       "</div>"
      ],
      "text/plain": [
       "        Murder     Assault   UrbanPop       Rape\n",
       "K_4                                             \n",
       "0     5.656250  138.875000  73.875000  18.781250\n",
       "1    13.937500  243.625000  53.750000  21.412500\n",
       "2    10.815385  257.384615  76.000000  33.192308\n",
       "3     3.600000   78.538462  52.076923  12.176923"
      ]
     },
     "execution_count": 347,
     "metadata": {},
     "output_type": "execute_result"
    }
   ],
   "source": [
    "usarrests[\"K_4\"] = k_4\n",
    "usarrests.groupby(['K_4']).mean()"
   ]
  },
  {
   "cell_type": "code",
   "execution_count": 350,
   "metadata": {},
   "outputs": [],
   "source": [
    "# usarrests"
   ]
  },
  {
   "cell_type": "code",
   "execution_count": 276,
   "metadata": {
    "scrolled": false
   },
   "outputs": [],
   "source": [
    "kmeans_3 = KMeans(n_clusters=3, random_state=42, n_init=20)\n",
    "kmeans_3.fit(usarrests_scaled)\n",
    "k_3 = kmeans_3.labels_"
   ]
  },
  {
   "cell_type": "code",
   "execution_count": 361,
   "metadata": {},
   "outputs": [
    {
     "data": {
      "text/html": [
       "<div>\n",
       "<style scoped>\n",
       "    .dataframe tbody tr th:only-of-type {\n",
       "        vertical-align: middle;\n",
       "    }\n",
       "\n",
       "    .dataframe tbody tr th {\n",
       "        vertical-align: top;\n",
       "    }\n",
       "\n",
       "    .dataframe thead th {\n",
       "        text-align: right;\n",
       "    }\n",
       "</style>\n",
       "<table border=\"1\" class=\"dataframe\">\n",
       "  <thead>\n",
       "    <tr style=\"text-align: right;\">\n",
       "      <th></th>\n",
       "      <th>Murder</th>\n",
       "      <th>Assault</th>\n",
       "      <th>UrbanPop</th>\n",
       "      <th>Rape</th>\n",
       "      <th>K_4</th>\n",
       "    </tr>\n",
       "    <tr>\n",
       "      <th>K_3</th>\n",
       "      <th></th>\n",
       "      <th></th>\n",
       "      <th></th>\n",
       "      <th></th>\n",
       "      <th></th>\n",
       "    </tr>\n",
       "  </thead>\n",
       "  <tbody>\n",
       "    <tr>\n",
       "      <th>0</th>\n",
       "      <td>5.656250</td>\n",
       "      <td>138.875</td>\n",
       "      <td>73.875000</td>\n",
       "      <td>18.78125</td>\n",
       "      <td>0.000000</td>\n",
       "    </tr>\n",
       "    <tr>\n",
       "      <th>1</th>\n",
       "      <td>12.165000</td>\n",
       "      <td>255.250</td>\n",
       "      <td>68.400000</td>\n",
       "      <td>29.16500</td>\n",
       "      <td>1.650000</td>\n",
       "    </tr>\n",
       "    <tr>\n",
       "      <th>2</th>\n",
       "      <td>3.971429</td>\n",
       "      <td>86.500</td>\n",
       "      <td>51.928571</td>\n",
       "      <td>12.70000</td>\n",
       "      <td>2.857143</td>\n",
       "    </tr>\n",
       "  </tbody>\n",
       "</table>\n",
       "</div>"
      ],
      "text/plain": [
       "        Murder  Assault   UrbanPop      Rape       K_4\n",
       "K_3                                                   \n",
       "0     5.656250  138.875  73.875000  18.78125  0.000000\n",
       "1    12.165000  255.250  68.400000  29.16500  1.650000\n",
       "2     3.971429   86.500  51.928571  12.70000  2.857143"
      ]
     },
     "execution_count": 361,
     "metadata": {},
     "output_type": "execute_result"
    }
   ],
   "source": [
    "usarrests[\"K_3\"] = k_3\n",
    "usarrests.groupby(['K_3']).mean()"
   ]
  },
  {
   "cell_type": "code",
   "execution_count": 305,
   "metadata": {
    "scrolled": true
   },
   "outputs": [
    {
     "data": {
      "image/png": "[encoded data removed]",
      "text/plain": [
       "<matplotlib.figure.Figure at 0x2658a9b30f0>"
      ]
     },
     "metadata": {},
     "output_type": "display_data"
    }
   ],
   "source": [
    "plt.figure(figsize=(5, 5))\n",
    "plt.title('K-Means Clustering with K=3', size=16)\n",
    "plt.xlabel('1st Principal Component')\n",
    "plt.ylabel('2nd Principal Component')\n",
    "m = 0.5\n",
    "plt.xlim(min(pc1) - m, max(pc1) + m)\n",
    "plt.ylim(min(pc2) - m, max(pc2) + m)\n",
    "for i in range(len(pc1)):\n",
    "    plt.text(pc1[i], pc2[i], usarrests.index[i], color=color_p[k_3[i]], alpha=0.8)"
   ]
  },
  {
   "cell_type": "markdown",
   "metadata": {},
   "source": [
    "클러스터를 2로 놓게 되면 인구규모는 비슷하지만, 범죄율에 있어서 차이가 나타나는 두 그룹으로 클러스터링 되었습니다. "
   ]
  },
  {
   "cell_type": "code",
   "execution_count": 277,
   "metadata": {},
   "outputs": [],
   "source": [
    "kmeans_2 = KMeans(n_clusters=2, random_state=42, n_init=20)\n",
    "kmeans_2.fit(usarrests_scaled)\n",
    "k_2 = kmeans_2.labels_"
   ]
  },
  {
   "cell_type": "code",
   "execution_count": 362,
   "metadata": {},
   "outputs": [
    {
     "data": {
      "text/html": [
       "<div>\n",
       "<style scoped>\n",
       "    .dataframe tbody tr th:only-of-type {\n",
       "        vertical-align: middle;\n",
       "    }\n",
       "\n",
       "    .dataframe tbody tr th {\n",
       "        vertical-align: top;\n",
       "    }\n",
       "\n",
       "    .dataframe thead th {\n",
       "        text-align: right;\n",
       "    }\n",
       "</style>\n",
       "<table border=\"1\" class=\"dataframe\">\n",
       "  <thead>\n",
       "    <tr style=\"text-align: right;\">\n",
       "      <th></th>\n",
       "      <th>Murder</th>\n",
       "      <th>Assault</th>\n",
       "      <th>UrbanPop</th>\n",
       "      <th>Rape</th>\n",
       "      <th>K_4</th>\n",
       "      <th>K_3</th>\n",
       "    </tr>\n",
       "    <tr>\n",
       "      <th>K_2</th>\n",
       "      <th></th>\n",
       "      <th></th>\n",
       "      <th></th>\n",
       "      <th></th>\n",
       "      <th></th>\n",
       "      <th></th>\n",
       "    </tr>\n",
       "  </thead>\n",
       "  <tbody>\n",
       "    <tr>\n",
       "      <th>0</th>\n",
       "      <td>4.870</td>\n",
       "      <td>114.433333</td>\n",
       "      <td>63.633333</td>\n",
       "      <td>15.943333</td>\n",
       "      <td>1.333333</td>\n",
       "      <td>0.933333</td>\n",
       "    </tr>\n",
       "    <tr>\n",
       "      <th>1</th>\n",
       "      <td>12.165</td>\n",
       "      <td>255.250000</td>\n",
       "      <td>68.400000</td>\n",
       "      <td>29.165000</td>\n",
       "      <td>1.650000</td>\n",
       "      <td>1.000000</td>\n",
       "    </tr>\n",
       "  </tbody>\n",
       "</table>\n",
       "</div>"
      ],
      "text/plain": [
       "     Murder     Assault   UrbanPop       Rape       K_4       K_3\n",
       "K_2                                                              \n",
       "0     4.870  114.433333  63.633333  15.943333  1.333333  0.933333\n",
       "1    12.165  255.250000  68.400000  29.165000  1.650000  1.000000"
      ]
     },
     "execution_count": 362,
     "metadata": {},
     "output_type": "execute_result"
    }
   ],
   "source": [
    "usarrests[\"K_2\"] = k_2\n",
    "usarrests.groupby(['K_2']).mean()"
   ]
  },
  {
   "cell_type": "code",
   "execution_count": 306,
   "metadata": {
    "scrolled": false
   },
   "outputs": [
    {
     "data": {
      "image/png": "[encoded data removed]",
      "text/plain": [
       "<matplotlib.figure.Figure at 0x2658a7e57b8>"
      ]
     },
     "metadata": {},
     "output_type": "display_data"
    }
   ],
   "source": [
    "plt.figure(figsize=(5, 5))\n",
    "plt.title('K-Means Clustering with K=2', size=16)\n",
    "plt.xlabel('1st Principal Component')\n",
    "plt.ylabel('2nd Principal Component')\n",
    "m = 0.5\n",
    "plt.xlim(min(pc1) - m, max(pc1) + m)\n",
    "plt.ylim(min(pc2) - m, max(pc2) + m)\n",
    "for i in range(len(pc1)):\n",
    "    plt.text(pc1[i], pc2[i], usarrests.index[i], color=color_p[k_2[i]], alpha=0.8)"
   ]
  },
  {
   "cell_type": "markdown",
   "metadata": {},
   "source": [
    "### 2. 2차원으로 축소한 후 다시 kmeans를 돌려 군집화\n",
    "2차원으로 축소했던 데이터 Projected_X_2D를 두고 k=2로 설정하여 군집화한 결과, 4차원 데이터에서 k=2로 두고 군집화한 결과와 동일한 결과가 나왔습니다. "
   ]
  },
  {
   "cell_type": "code",
   "execution_count": 316,
   "metadata": {},
   "outputs": [],
   "source": [
    "kmeans_X2D = KMeans(n_clusters=2, random_state=42, n_init=20)\n",
    "kmeans_X2D.fit(Projected_X_2D.T)\n",
    "k_X2D = kmeans_X2D.labels_"
   ]
  },
  {
   "cell_type": "code",
   "execution_count": 317,
   "metadata": {},
   "outputs": [
    {
     "data": {
      "text/plain": [
       "array([1, 1, 1, 0, 1, 1, 0, 0, 1, 1, 0, 0, 1, 0, 0, 0, 0, 1, 0, 1, 0, 1,\n",
       "       0, 1, 1, 0, 0, 1, 0, 0, 1, 1, 1, 0, 0, 0, 0, 0, 0, 1, 0, 1, 1, 0,\n",
       "       0, 0, 0, 0, 0, 0])"
      ]
     },
     "execution_count": 317,
     "metadata": {},
     "output_type": "execute_result"
    }
   ],
   "source": [
    "k_X2D"
   ]
  },
  {
   "cell_type": "code",
   "execution_count": 363,
   "metadata": {},
   "outputs": [
    {
     "data": {
      "image/png": "[encoded data removed]",
      "text/plain": [
       "<matplotlib.figure.Figure at 0x2658a6f30f0>"
      ]
     },
     "metadata": {},
     "output_type": "display_data"
    }
   ],
   "source": [
    "plt.figure(figsize=(5, 5))\n",
    "plt.title('K-Means Clustering on 2D data', size=16)\n",
    "plt.xlabel('1st Principal Component')\n",
    "plt.ylabel('2nd Principal Component')\n",
    "m = .5\n",
    "plt.xlim(min(pc1) - m, max(pc1) + m)\n",
    "plt.ylim(min(pc2) - m, max(pc2) + m)\n",
    "for i in range(len(pc1)):\n",
    "    plt.text(pc1[i], pc2[i], usarrests.index[i], color=color_p[k_X2D[i]], alpha=0.8)"
   ]
  }
 ],
 "metadata": {
  "kernelspec": {
   "display_name": "Python 3",
   "language": "python",
   "name": "python3"
  },
  "language_info": {
   "codemirror_mode": {
    "name": "ipython",
    "version": 3
   },
   "file_extension": ".py",
   "mimetype": "text/x-python",
   "name": "python",
   "nbconvert_exporter": "python",
   "pygments_lexer": "ipython3",
   "version": "3.6.4"
  }
 },
 "nbformat": 4,
 "nbformat_minor": 2
}
